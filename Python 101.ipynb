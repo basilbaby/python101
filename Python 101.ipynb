{
 "cells": [
  {
   "cell_type": "markdown",
   "id": "c6cedfcc-8ee4-469f-9b05-e961a2872686",
   "metadata": {},
   "source": [
    "# Python Basics\n",
    "## your first lines of code\n",
    "\n",
    "This section introduces basic Python concepts with clear examples and explanations. \n",
    "\n",
    "It covers:\n",
    "- variables and data types: strings, lists, dictionaries\n",
    "- arithmetic operations\n",
    "- control flow and iterables: conditional statements, loops\n",
    "- functions\n",
    "- importing modules\n",
    "- classes\n",
    "- basic file operations. \n",
    "\n",
    "Each concept is demonstrated with simple code and comments to ensure clarity."
   ]
  },
  {
   "cell_type": "markdown",
   "id": "ba387cb4-7f05-4f7f-86c1-611a5f1d33e9",
   "metadata": {
    "jp-MarkdownHeadingCollapsed": true,
    "tags": []
   },
   "source": [
    "## 1. Variables and Data Types\n",
    "\n",
    "Python variables are not strictly typed, this means that you do not need to define a variable before using it and you don't need to declare the variable type before assigning a value to it.\n",
    "\n",
    "To define a variable you simply have to declare the name of the variable, followed by the equal sign and the value that you wish to assign to the variable."
   ]
  },
  {
   "cell_type": "code",
   "execution_count": 100,
   "id": "73a8b761-f600-4bf7-b143-f8f6cf4d95ea",
   "metadata": {},
   "outputs": [],
   "source": [
    "# Creating variables\n",
    "x = 10  # Integer\n",
    "y = 3.14  # Float\n",
    "name = \"Alice\"  # String\n",
    "is_student = True  # Boolean\n"
   ]
  },
  {
   "cell_type": "code",
   "execution_count": 101,
   "id": "4c4c82f1-8908-485e-a668-c84f62a165d4",
   "metadata": {},
   "outputs": [
    {
     "name": "stdout",
     "output_type": "stream",
     "text": [
      "variable x has value 10 and type <class 'int'>\n",
      "variable y has value 3.14 and type <class 'float'>\n",
      "variable name has value Alice and type <class 'str'>\n",
      "variable is_student has value True and type <class 'bool'>\n"
     ]
    }
   ],
   "source": [
    "# Printing variables and types\n",
    "#Since Python 3.6 you can use f-strings or formatted string literals which are very convenient\n",
    "# The function type is used to get the data type of a variable\n",
    "print(f'variable x has value {x} and type {type(x)}')\n",
    "print(f'variable y has value {y} and type {type(y)}')\n",
    "print(f'variable name has value {name} and type {type(name)}')\n",
    "print(f'variable is_student has value {is_student} and type {type(is_student)}')"
   ]
  },
  {
   "cell_type": "code",
   "execution_count": 102,
   "id": "5f487b46-545d-46cc-9d79-eb2555c0abad",
   "metadata": {},
   "outputs": [
    {
     "ename": "NameError",
     "evalue": "name 'some_unknown_var' is not defined",
     "output_type": "error",
     "traceback": [
      "\u001b[0;31m---------------------------------------------------------------------------\u001b[0m",
      "\u001b[0;31mNameError\u001b[0m                                 Traceback (most recent call last)",
      "Cell \u001b[0;32mIn [102], line 2\u001b[0m\n\u001b[1;32m      1\u001b[0m \u001b[38;5;66;03m# Accessing a previously unassigned variable is an exception.\u001b[39;00m\n\u001b[0;32m----> 2\u001b[0m \u001b[43msome_unknown_var\u001b[49m\n",
      "\u001b[0;31mNameError\u001b[0m: name 'some_unknown_var' is not defined"
     ]
    }
   ],
   "source": [
    "# Accessing a previously unassigned variable is an exception.\n",
    "some_unknown_var  # Raises a NameError"
   ]
  },
  {
   "cell_type": "code",
   "execution_count": 103,
   "id": "5bc9e47d-581e-49d9-b3ba-20060500471b",
   "metadata": {},
   "outputs": [
    {
     "data": {
      "text/plain": [
       "' Multiline strings can be written\\n    using three \"s, and are often used\\n    as documentation.\\n'"
      ]
     },
     "execution_count": 103,
     "metadata": {},
     "output_type": "execute_result"
    }
   ],
   "source": [
    "# Single line comments start with a number symbol.\n",
    "\n",
    "\"\"\" Multiline strings can be written\n",
    "    using three \"s, and are often used\n",
    "    as documentation.\n",
    "\"\"\""
   ]
  },
  {
   "cell_type": "markdown",
   "id": "12307dd9-ca7e-4129-b25a-e3717901c7a3",
   "metadata": {},
   "source": [
    "**Input user information**"
   ]
  },
  {
   "cell_type": "code",
   "execution_count": 17,
   "id": "126817e0-0946-4601-89a8-0d1ee6a0a324",
   "metadata": {},
   "outputs": [
    {
     "name": "stdin",
     "output_type": "stream",
     "text": [
      "What's your name? s\n",
      "password ········\n"
     ]
    }
   ],
   "source": [
    "import getpass\n",
    "# Use input when you don't mind that the text is echoed in the console\n",
    "name = input(\"What's your name?\")\n",
    "\n",
    "# For sensitive information like passwords use getpass\n",
    "pwd = getpass.getpass(\"password\")"
   ]
  },
  {
   "cell_type": "markdown",
   "id": "f6acd5a8-f7c0-4df1-a786-20ebfc678cda",
   "metadata": {},
   "source": [
    "### Naming conventions\n",
    "\n",
    "There are various rules that you must adhere to when choosing the name of your variables\n",
    "- Must start with either a letter or an underscore\n",
    "- Can contain letters, numbers underscores or dash\n",
    "- Variable names are case sensitive\n",
    "- Convention is to use lower_case_with_underscores"
   ]
  },
  {
   "cell_type": "markdown",
   "id": "b2dd743f-e5e8-476e-82d6-a694f19075af",
   "metadata": {
    "jp-MarkdownHeadingCollapsed": true,
    "tags": []
   },
   "source": [
    "### Basic variable types\n",
    "\n",
    "The variable types that are available to use with Python are:\n",
    "- String: str\n",
    "- Numeric: int, float, decimal\n",
    "- Boolean: bool\n",
    "- Sequence: list, tuple\n",
    "- Mapping: dict\n",
    "- Set: set\n",
    "- Binary: bytes, bytearray"
   ]
  },
  {
   "cell_type": "markdown",
   "id": "884d89ed-63c0-4cbd-99ed-79cebbd9530e",
   "metadata": {
    "tags": []
   },
   "source": [
    "### Strings\n",
    "- String variables can be defined with either double **\"** or single **'** quotations. The same one to open and close the string.\n",
    "- To combine two strings you can use the concatenation character, which is the plus **+** sign.\n",
    "- Python **f-strings** provide a quick way to interpolate and format strings. They’re readable, concise, and less prone to error than traditional string interpolation and formatting tools, such as the .format() method and the modulo operator (%). An f-string is also a bit faster than those tools!\n",
    "- The scape character in Python is the back slash \\\\. You can use it to tell Python to ignore the next character and just print it.\n",
    "- The scape character can also be used to change the formatting of the output. **\\n** will create a new line and **\\t** will add a tab.\n"
   ]
  },
  {
   "cell_type": "code",
   "execution_count": 104,
   "id": "4f7b574c-7078-4bfd-ac6d-d74d350d142e",
   "metadata": {},
   "outputs": [],
   "source": [
    "# String variables can be defined with either double or single quotations.\n",
    "name = \"Alice\"  \n",
    "surname = 'Brown'"
   ]
  },
  {
   "cell_type": "code",
   "execution_count": 105,
   "id": "b7819c9e-d6c5-4949-a8c7-8a1545b3b231",
   "metadata": {},
   "outputs": [
    {
     "name": "stdout",
     "output_type": "stream",
     "text": [
      "Hello, Alice Brown! You're 20 years old.\n"
     ]
    }
   ],
   "source": [
    "# Concatenation\n",
    "# To combine two strings you need to use concatenation character, which is the plus sign.\n",
    "full_name = name + \" \" + surname\n",
    "age = 20\n",
    "print(f\"Hello, {full_name}! You're {age} years old.\")"
   ]
  },
  {
   "cell_type": "code",
   "execution_count": 106,
   "id": "83b0151c-a945-4496-b0f8-bcb65c812d6a",
   "metadata": {},
   "outputs": [
    {
     "name": "stdout",
     "output_type": "stream",
     "text": [
      "\"It’s no use going back to yesterday, because I was a different person then.\"\n",
      "Alice, from Alice in Wonderland by Lewis Carroll\n"
     ]
    }
   ],
   "source": [
    "# The scape character in Python is the back slash. You can use it to tell Python to ignore the next character and just print it.\n",
    "quote = \"\\\"It’s no use going back to yesterday, because I was a different person then.\\\"\\nAlice, from Alice in Wonderland by Lewis Carroll\"\n",
    "print(quote)"
   ]
  },
  {
   "cell_type": "code",
   "execution_count": 107,
   "id": "b7c9980b-3232-4aad-a83d-5dde071dbbc7",
   "metadata": {},
   "outputs": [
    {
     "name": "stdout",
     "output_type": "stream",
     "text": [
      "Length of Quote: 126 characters\n"
     ]
    }
   ],
   "source": [
    "# String Length\n",
    "length = len(quote)\n",
    "print(f\"Length of Quote: {length} characters\")"
   ]
  },
  {
   "cell_type": "code",
   "execution_count": 108,
   "id": "04448366-314a-43ff-86b3-c166c4115bc5",
   "metadata": {},
   "outputs": [
    {
     "name": "stdout",
     "output_type": "stream",
     "text": [
      "First Character: A\n"
     ]
    }
   ],
   "source": [
    "# String Indexing\n",
    "first_char = full_name[0]\n",
    "print(\"First Character:\", first_char)"
   ]
  },
  {
   "cell_type": "code",
   "execution_count": 109,
   "id": "ea760411-68e1-435f-8c97-92f8d3abf185",
   "metadata": {},
   "outputs": [
    {
     "name": "stdout",
     "output_type": "stream",
     "text": [
      "First Name: Alice\n"
     ]
    }
   ],
   "source": [
    "# Slicing\n",
    "first_name = full_name[:5]  # Up to but not including index 5\n",
    "print(\"First Name:\", first_name)\n"
   ]
  },
  {
   "cell_type": "markdown",
   "id": "5705bcea-273c-4ed1-91e6-1d4a25c7a490",
   "metadata": {},
   "source": [
    "### Numeric\n",
    "\n",
    "- Integers are whole numbers\n",
    "- Floats are numbers with decimal places.When you do a calculation that results ina fraction e.g. 4 ÷ 3 the result will always be a floating point number.\n"
   ]
  },
  {
   "cell_type": "markdown",
   "id": "30f91eca-0d9e-4392-9639-3e30bbe16994",
   "metadata": {},
   "source": [
    "### Booleans\n",
    "\n",
    "- Boolean values are primitives. It's important to write them with capital letter.\n",
    "- It's possible to negate them using **not**\n",
    "- It's possible to combine them with **and** and **or**. \n",
    "- It's possible to do arithmetic with them. **True is 1** and **False is 0**"
   ]
  },
  {
   "cell_type": "code",
   "execution_count": 112,
   "id": "45c85057-fd4a-44f7-b478-e2e3e89c3bc6",
   "metadata": {},
   "outputs": [
    {
     "name": "stdout",
     "output_type": "stream",
     "text": [
      "1\n"
     ]
    }
   ],
   "source": [
    "# Boolean values are primitives (Note: the capitalization)\n",
    "x = True     # => True\n",
    "y = False    # => False\n",
    "print(x + y) # => 1"
   ]
  },
  {
   "cell_type": "code",
   "execution_count": 115,
   "id": "bf902291-9727-4378-a72b-37723ebbc404",
   "metadata": {},
   "outputs": [
    {
     "name": "stdout",
     "output_type": "stream",
     "text": [
      "False\n",
      "True\n"
     ]
    }
   ],
   "source": [
    "# negate with not\n",
    "print(not True)   # => False\n",
    "print(not False)  # => True"
   ]
  },
  {
   "cell_type": "code",
   "execution_count": null,
   "id": "29c91fed-3879-4c24-ac01-58bba8fed8bd",
   "metadata": {},
   "outputs": [],
   "source": [
    "# Boolean Operators\n",
    "# Note \"and\" and \"or\" are case-sensitive\n",
    "True and False  # => False\n",
    "False or True   # => True"
   ]
  },
  {
   "cell_type": "code",
   "execution_count": 116,
   "id": "37001b4e-72a8-42bf-bc59-b4a2fa4076c1",
   "metadata": {},
   "outputs": [
    {
     "name": "stdout",
     "output_type": "stream",
     "text": [
      "2\n",
      "8\n",
      "-5\n"
     ]
    }
   ],
   "source": [
    "# True and False are actually 1 and 0 but with different keywords\n",
    "print(True + True) # => 2\n",
    "print(True * 8)    # => 8\n",
    "print(False - 5)   # => -5"
   ]
  },
  {
   "cell_type": "code",
   "execution_count": 119,
   "id": "bbddd2b4-4587-41ef-bf02-8e22df697989",
   "metadata": {},
   "outputs": [
    {
     "name": "stdout",
     "output_type": "stream",
     "text": [
      "True\n",
      "False\n"
     ]
    }
   ],
   "source": [
    "# In Python, xor (exclusive or) is not a direct boolean operator like and, or, and not. \n",
    "# However, it can be performed using the bitwise operator ^. \n",
    "# The xor operation returns True when the operands are different (one True and one False), and False when they are the same (both True or both False).\n",
    "# Using xor with boolean values\n",
    "a = True\n",
    "b = False\n",
    "\n",
    "result = a ^ b\n",
    "print(result)  # Output: True\n",
    "\n",
    "# Another example\n",
    "a = True\n",
    "b = True\n",
    "\n",
    "result = a ^ b\n",
    "print(result)  # Output: False\n",
    "\n"
   ]
  },
  {
   "cell_type": "code",
   "execution_count": 121,
   "id": "7d79323d-61ea-4f4a-bb4f-b0ca5fd05f93",
   "metadata": {},
   "outputs": [
    {
     "name": "stdout",
     "output_type": "stream",
     "text": [
      "Encrypted message: #\u0000\u0015]]\u001fK=6c\u0013\n",
      "Decrypted message: Hello, XOR!\n"
     ]
    }
   ],
   "source": [
    "#  XOR can be utilized for a simple yet effective encryption and decryption mechanism, showcasing its practical application in the field of data security.\n",
    "\n",
    "def xor_encrypt_decrypt(data, key):\n",
    "    # Convert data and key to byte arrays\n",
    "    data_bytes = bytearray(data, 'utf-8')\n",
    "    # print(data_bytes)\n",
    "    key_bytes = bytearray(key, 'utf-8')\n",
    "    # print(key_bytes)\n",
    "\n",
    "    # Perform XOR operation for each byte\n",
    "    result = bytearray()\n",
    "    for i in range(len(data_bytes)):\n",
    "        result.append(data_bytes[i] ^ key_bytes[i % len(key_bytes)])\n",
    "\n",
    "    # Convert the result back to a string\n",
    "    return result.decode('utf-8')\n",
    "\n",
    "# Original message\n",
    "original_message = \"Hello, XOR!\"\n",
    "# Encryption key\n",
    "key = \"key123\"\n",
    "\n",
    "# Encrypt the message\n",
    "encrypted_message = xor_encrypt_decrypt(original_message, key)\n",
    "print(f\"Encrypted message: {encrypted_message}\")\n",
    "\n",
    "# Decrypt the message (using the same function)\n",
    "decrypted_message = xor_encrypt_decrypt(encrypted_message, key)\n",
    "print(f\"Decrypted message: {decrypted_message}\")\n"
   ]
  },
  {
   "cell_type": "markdown",
   "id": "6350b82f-9d88-480a-affe-5c01313bb6bf",
   "metadata": {},
   "source": [
    "### Sequence: List, Tuple"
   ]
  },
  {
   "cell_type": "markdown",
   "id": "54513768-cefe-485a-86ff-ffb479b8bc6f",
   "metadata": {},
   "source": [
    "#### Lists\n",
    "\n",
    "- In Python, lists are used to store an ordered collection of items that can be modified. \n",
    "- They are mutable, meaning elements can be added, removed, or changed, making them highly flexible for various applications. \n",
    "- Lists are particularly useful for dynamically sized collections where the size and content may change over time. \n",
    "- They support a wide range of operations, including indexing, slicing, and various methods for manipulation like append, extend, remove, and sort. \n",
    "- Lists are ideal for tasks such as storing sequences of data, implementing stacks or queues, and any scenario where an ordered, mutable collection is needed."
   ]
  },
  {
   "cell_type": "code",
   "execution_count": 63,
   "id": "60976ce8-38e7-4386-9d62-4bf224805404",
   "metadata": {},
   "outputs": [],
   "source": [
    "# Lists store sequences\n",
    "# Empty list\n",
    "fruits = []"
   ]
  },
  {
   "cell_type": "code",
   "execution_count": 65,
   "id": "7902758b-fb33-4b93-b851-335130b15cd9",
   "metadata": {},
   "outputs": [
    {
     "name": "stdout",
     "output_type": "stream",
     "text": [
      "Fruits: ['apple', 'banana', 'cherry']\n"
     ]
    }
   ],
   "source": [
    "# Creating a list\n",
    "fruits = [\"apple\", \"banana\", \"cherry\"]\n",
    "print(\"Fruits:\", fruits)"
   ]
  },
  {
   "cell_type": "code",
   "execution_count": 66,
   "id": "60100478-268c-47fb-b156-89dcf8002c23",
   "metadata": {},
   "outputs": [
    {
     "name": "stdout",
     "output_type": "stream",
     "text": [
      "First Fruit: apple\n"
     ]
    }
   ],
   "source": [
    "# Accessing elements\n",
    "first_fruit = fruits[0]\n",
    "print(\"First Fruit:\", first_fruit)"
   ]
  },
  {
   "cell_type": "code",
   "execution_count": 67,
   "id": "fbc2ba53-474b-46df-9164-326064b6405d",
   "metadata": {},
   "outputs": [
    {
     "name": "stdout",
     "output_type": "stream",
     "text": [
      "Fruits after appending: ['apple', 'banana', 'cherry', 'date']\n"
     ]
    }
   ],
   "source": [
    "# Adding elements\n",
    "fruits.append(\"date\")\n",
    "print(\"Fruits after appending:\", fruits)"
   ]
  },
  {
   "cell_type": "code",
   "execution_count": 68,
   "id": "f910b7fe-9e01-45c4-a685-6113dd8deb47",
   "metadata": {},
   "outputs": [
    {
     "name": "stdout",
     "output_type": "stream",
     "text": [
      "Length of list:  4\n"
     ]
    }
   ],
   "source": [
    "# Examine the length with \"len()\"\n",
    "print(\"Length of list: \",len(fruits)) "
   ]
  },
  {
   "cell_type": "code",
   "execution_count": 70,
   "id": "13eb2a9d-adfd-49fd-a05e-b25e1153251e",
   "metadata": {},
   "outputs": [
    {
     "name": "stdout",
     "output_type": "stream",
     "text": [
      "date is located in pos:  3\n"
     ]
    }
   ],
   "source": [
    "# Get the index of the first item found matching the argument \n",
    "# Indexes start at 0\n",
    "print(\"date is located in pos: \",fruits.index('date'))"
   ]
  },
  {
   "cell_type": "code",
   "execution_count": 71,
   "id": "f5fa6e27-693d-42bd-b086-494e1ce6faf2",
   "metadata": {},
   "outputs": [
    {
     "name": "stdout",
     "output_type": "stream",
     "text": [
      "Fruits after removing 'banana': ['apple', 'cherry', 'date']\n"
     ]
    }
   ],
   "source": [
    "# Removing elements\n",
    "fruits.remove(\"banana\")\n",
    "print(\"Fruits after removing 'banana':\", fruits)"
   ]
  },
  {
   "cell_type": "code",
   "execution_count": 72,
   "id": "98ba51ca-630e-44d3-95a0-dd24509351d0",
   "metadata": {},
   "outputs": [
    {
     "name": "stdout",
     "output_type": "stream",
     "text": [
      "Fruits after removing last item: ['apple', 'cherry']\n"
     ]
    }
   ],
   "source": [
    "# Removing at the end with pop\n",
    "fruits.pop()\n",
    "print(\"Fruits after removing last item:\", fruits)"
   ]
  },
  {
   "cell_type": "code",
   "execution_count": 73,
   "id": "72db659e-e803-4795-9db1-581e32dae5c6",
   "metadata": {},
   "outputs": [
    {
     "name": "stdout",
     "output_type": "stream",
     "text": [
      "Fruits after inserting mango in index 1 ['apple', 'mango', 'cherry']\n"
     ]
    }
   ],
   "source": [
    "# Insert an element at a specific index\n",
    "fruits.insert(1, 'mango')  \n",
    "print(\"Fruits after inserting mango in index 1\", fruits)\n"
   ]
  },
  {
   "cell_type": "code",
   "execution_count": 74,
   "id": "000978d3-00f8-4beb-b6c5-7ee8d3ff96b3",
   "metadata": {},
   "outputs": [
    {
     "name": "stdout",
     "output_type": "stream",
     "text": [
      "First element apple\n",
      "Last element cherry\n"
     ]
    }
   ],
   "source": [
    "# Access a list like you would any array\n",
    "print(\"First element\", fruits[0])   \n",
    "# Look at the last element\n",
    "print(\"Last element\", fruits[-1])"
   ]
  },
  {
   "cell_type": "code",
   "execution_count": 75,
   "id": "e7a43c51-8766-40cd-8c3e-28e5722b34d1",
   "metadata": {},
   "outputs": [
    {
     "name": "stdout",
     "output_type": "stream",
     "text": [
      "Mango is in the list:  True\n"
     ]
    }
   ],
   "source": [
    "# Check for existence in a list with \"in\"\n",
    "print('Mango is in the list: ','mango' in fruits)"
   ]
  },
  {
   "cell_type": "code",
   "execution_count": 76,
   "id": "6b390ee6-6335-47bb-b761-93469f25ca39",
   "metadata": {},
   "outputs": [
    {
     "name": "stdout",
     "output_type": "stream",
     "text": [
      "Fruit list after concatenating other list: ['apple', 'mango', 'cherry', 'orange', 'watermelon']\n"
     ]
    }
   ],
   "source": [
    "# Concatenate lists with \"extend()\"\n",
    "other_fruits = ['orange', 'watermelon']\n",
    "fruits.extend(other_fruits) \n",
    "print(\"Fruit list after concatenating other list:\", fruits)"
   ]
  },
  {
   "cell_type": "code",
   "execution_count": 77,
   "id": "b1003336-a846-402f-a7d8-256822ef438c",
   "metadata": {},
   "outputs": [
    {
     "name": "stdout",
     "output_type": "stream",
     "text": [
      "Fruit after reversing the content: ['watermelon', 'orange', 'cherry', 'mango', 'apple']\n"
     ]
    }
   ],
   "source": [
    "# Reverse the content of the list\n",
    "fruits.reverse()\n",
    "print(\"Fruit after reversing the content:\", fruits)"
   ]
  },
  {
   "cell_type": "code",
   "execution_count": 78,
   "id": "7a2bd24d-f74f-4e7c-bf80-456dc4d60a69",
   "metadata": {},
   "outputs": [
    {
     "name": "stdout",
     "output_type": "stream",
     "text": [
      "Number of times mango appears: 1\n"
     ]
    }
   ],
   "source": [
    "# Count number of occurrences of x\n",
    "print(\"Number of times mango appears:\", fruits.count('mango'))"
   ]
  },
  {
   "cell_type": "code",
   "execution_count": 77,
   "id": "ac2fae4b-05d4-4896-ac68-e821edc3e67a",
   "metadata": {},
   "outputs": [
    {
     "ename": "IndexError",
     "evalue": "list index out of range",
     "output_type": "error",
     "traceback": [
      "\u001b[0;31m---------------------------------------------------------------------------\u001b[0m",
      "\u001b[0;31mIndexError\u001b[0m                                Traceback (most recent call last)",
      "\u001b[0;32m/tmp/ipykernel_472/3421738424.py\u001b[0m in \u001b[0;36m<module>\u001b[0;34m\u001b[0m\n\u001b[1;32m      1\u001b[0m \u001b[0;31m# IndexError when trying to access an element out of bounds\u001b[0m\u001b[0;34m\u001b[0m\u001b[0;34m\u001b[0m\u001b[0;34m\u001b[0m\u001b[0m\n\u001b[0;32m----> 2\u001b[0;31m \u001b[0mfruits\u001b[0m\u001b[0;34m[\u001b[0m\u001b[0;36m2\u001b[0m\u001b[0;34m]\u001b[0m\u001b[0;34m\u001b[0m\u001b[0;34m\u001b[0m\u001b[0m\n\u001b[0m",
      "\u001b[0;31mIndexError\u001b[0m: list index out of range"
     ]
    }
   ],
   "source": [
    "# IndexError when trying to access an element out of bounds\n",
    "fruits[2]"
   ]
  },
  {
   "cell_type": "code",
   "execution_count": 80,
   "id": "e7f0bee8-175a-47cb-8602-d1381382ad5a",
   "metadata": {},
   "outputs": [
    {
     "name": "stdout",
     "output_type": "stream",
     "text": [
      "ne\n",
      "eumonoultramicroscopicsilicovolcanoconiosis\n",
      "pne\n",
      "pemnutairsoislcvlaooiss\n",
      "sisoinoconaclovociliscipocsorcimartluonomuenp\n"
     ]
    }
   ],
   "source": [
    "#strings can be used like lists\n",
    "\n",
    "longest_word = 'pneumonoultramicroscopicsilicovolcanoconiosis'\n",
    "# You can look at ranges with slice syntax.\n",
    "# The start index is included, the end index is not\n",
    "# (It's a closed/open range for you mathy types.)\n",
    "print(longest_word[1:3])   # Return list from index 1 to 3 \n",
    "print(longest_word[2:])    # Return list starting from index 2 \n",
    "print(longest_word[:3])    # Return list from beginning until index 3  \n",
    "print(longest_word[::2])   # Return list selecting elements with a step size of 2\n",
    "print(longest_word[::-1])  # Return list in reverse order\n",
    "\n",
    "# Use any combination of these to make advanced slices\n",
    "# list_name[start:end:step]\n",
    "\n"
   ]
  },
  {
   "cell_type": "code",
   "execution_count": 86,
   "id": "4110eb51-6c30-4b37-8b98-793884dcd141",
   "metadata": {},
   "outputs": [
    {
     "name": "stdout",
     "output_type": "stream",
     "text": [
      "Original list before change: [1, 2, [3, 4], 5]\n",
      "Shallow copy before change: [1, 2, [3, 4], 5]\n",
      "Original list after change: [1, 2, [99, 4], 5]\n",
      "Shallow copy after change: [1, 2, [99, 4], 5]\n"
     ]
    }
   ],
   "source": [
    "# Make a one layer deep copy using slices\n",
    "# Shallow Copy: The copy list is a new list object containing the same elements as original one. \n",
    "# However, if the original list contains nested lists or objects, the references to those nested elements are copied, not the objects themselves. \n",
    "# This means changes to mutable elements within the nested structure will be reflected in both copies.\n",
    "\n",
    "# Original list with nested mutable elements\n",
    "original_list = [1, 2, [3, 4], 5]\n",
    "\n",
    "# Create a shallow copy using slicing\n",
    "shallow_copy = original_list[:]\n",
    "\n",
    "# Print both lists before making any changes\n",
    "print(\"Original list before change:\", original_list)\n",
    "print(\"Shallow copy before change:\", shallow_copy)\n",
    "\n",
    "# Modify a mutable element (nested list) in the shallow copy\n",
    "shallow_copy[2][0] = 99\n",
    "\n",
    "# Print both lists after making changes\n",
    "print(\"Original list after change:\", original_list)\n",
    "print(\"Shallow copy after change:\", shallow_copy)\n",
    "\n",
    "# The change done in one list is reflected in the other.\n"
   ]
  },
  {
   "cell_type": "markdown",
   "id": "756a7416-56e4-4ade-877e-773892b8e6b8",
   "metadata": {},
   "source": [
    "#### Tuples\n",
    "\n",
    "- In Python, tuples are used to store a collection of items in a single, immutable sequence. \n",
    "- They are similar to lists, but unlike lists, tuples cannot be modified after creation, which makes them useful for storing data that should not change throughout the program. \n",
    "- Tuples are often used for grouping related data together, such as returning multiple values from a function or creating records with fixed fields. \n",
    "- Their immutability ensures data integrity, and they can be used as keys in dictionaries or elements in sets, where immutability is required. \n",
    "- Additionally, tuples generally have a slight performance advantage over lists due to their fixed size and immutability."
   ]
  },
  {
   "cell_type": "code",
   "execution_count": 87,
   "id": "9e0ad797-4d78-4e8e-aeb7-209103cd99e7",
   "metadata": {},
   "outputs": [
    {
     "data": {
      "text/plain": [
       "1"
      ]
     },
     "execution_count": 87,
     "metadata": {},
     "output_type": "execute_result"
    }
   ],
   "source": [
    "# Tuples are like lists but are immutable.\n",
    "tup = (1, 2, 3)\n",
    "tup[0]      # => 1"
   ]
  },
  {
   "cell_type": "code",
   "execution_count": 88,
   "id": "c30ab354-45a6-416c-8439-394b05751c37",
   "metadata": {},
   "outputs": [
    {
     "ename": "TypeError",
     "evalue": "'tuple' object does not support item assignment",
     "output_type": "error",
     "traceback": [
      "\u001b[0;31m---------------------------------------------------------------------------\u001b[0m",
      "\u001b[0;31mTypeError\u001b[0m                                 Traceback (most recent call last)",
      "Cell \u001b[0;32mIn [88], line 1\u001b[0m\n\u001b[0;32m----> 1\u001b[0m \u001b[43mtup\u001b[49m\u001b[43m[\u001b[49m\u001b[38;5;241;43m0\u001b[39;49m\u001b[43m]\u001b[49m \u001b[38;5;241m=\u001b[39m \u001b[38;5;241m3\u001b[39m\n",
      "\u001b[0;31mTypeError\u001b[0m: 'tuple' object does not support item assignment"
     ]
    }
   ],
   "source": [
    "tup[0] = 3  # Raises a TypeError"
   ]
  },
  {
   "cell_type": "code",
   "execution_count": 91,
   "id": "425317c6-0217-4817-9f49-7d4270d1dea0",
   "metadata": {},
   "outputs": [
    {
     "name": "stdout",
     "output_type": "stream",
     "text": [
      "type((1))  : <class 'int'>\n",
      "type((1,)) : <class 'tuple'>\n",
      "type(())   : <class 'tuple'>\n"
     ]
    }
   ],
   "source": [
    "# Note that a tuple of length one has to have a comma after the last element \n",
    "# but tuples of other lengths, even zero, do not.\n",
    "print(f'type((1))  : {type((1))}')   # => <class 'int'>\n",
    "print(f'type((1,)) : {type((1,))}')  # => <class 'tuple'>\n",
    "print(f'type(())   : {type(())}')  # => <class 'tuple'>"
   ]
  },
  {
   "cell_type": "code",
   "execution_count": 93,
   "id": "303dd828-2176-4444-a84c-92aef9afd766",
   "metadata": {},
   "outputs": [
    {
     "name": "stdout",
     "output_type": "stream",
     "text": [
      "tup             : (1, 2, 3)\n",
      "len(tup)        : 3\n",
      "tup + (4, 5, 6) : (1, 2, 3, 4, 5, 6)\n",
      "tup[:2]         : (1, 2)\n",
      "2 in tup        : True\n"
     ]
    }
   ],
   "source": [
    "# You can do most of the list operations on tuples too\n",
    "print(f'tup             : {tup}')\n",
    "print(f'len(tup)        : {len(tup)}')         # => 3\n",
    "print(f'tup + (4, 5, 6) : {tup + (4, 5, 6)}')  # => (1, 2, 3, 4, 5, 6)\n",
    "print(f'tup[:2]         : {tup[:2]}')          # => (1, 2)\n",
    "print(f'2 in tup        : {2 in tup}')         # => True"
   ]
  },
  {
   "cell_type": "code",
   "execution_count": 95,
   "id": "1b001fad-f726-4ae8-828c-1822a81ad34c",
   "metadata": {},
   "outputs": [
    {
     "name": "stdout",
     "output_type": "stream",
     "text": [
      "1\n",
      "2\n",
      "3\n"
     ]
    }
   ],
   "source": [
    "# You can unpack tuples (or lists) into variables\n",
    "a, b, c = (1, 2, 3)  # a is now 1, b is now 2 and c is now 3\n",
    "print(a)\n",
    "print(b)\n",
    "print(c)"
   ]
  },
  {
   "cell_type": "code",
   "execution_count": 96,
   "id": "754304ea-a42c-4cf1-a60e-2a0e093ed94d",
   "metadata": {},
   "outputs": [
    {
     "name": "stdout",
     "output_type": "stream",
     "text": [
      "1\n",
      "[2, 3]\n",
      "4\n"
     ]
    }
   ],
   "source": [
    "# You can also do extended unpacking\n",
    "a, *b, c = (1, 2, 3, 4)  # a is now 1, b is now [2, 3] and c is now 4\n",
    "print(a)\n",
    "print(b)\n",
    "print(c)"
   ]
  },
  {
   "cell_type": "code",
   "execution_count": 98,
   "id": "dcaa203c-b147-4fbd-acc5-4e55c394613d",
   "metadata": {},
   "outputs": [
    {
     "name": "stdout",
     "output_type": "stream",
     "text": [
      "4\n",
      "5\n",
      "6\n"
     ]
    }
   ],
   "source": [
    "# Tuples are created by default if you leave out the parentheses\n",
    "d, e, f = 4, 5, 6  # tuple 4, 5, 6 is unpacked into variables d, e and f\n",
    "# respectively such that d = 4, e = 5 and f = 6\n",
    "print(d)\n",
    "print(e)\n",
    "print(f)"
   ]
  },
  {
   "cell_type": "code",
   "execution_count": 99,
   "id": "490d4209-cd58-40de-87eb-7fb9b7d63054",
   "metadata": {},
   "outputs": [
    {
     "name": "stdout",
     "output_type": "stream",
     "text": [
      "d is 4 and e is 5\n",
      "d is 5 and e is 4\n"
     ]
    }
   ],
   "source": [
    "# Now look how easy it is to swap two values\n",
    "print(f'd is {d} and e is {e}')\n",
    "e, d = d, e  # d is now 5 and e is now 4\n",
    "print(f'd is {d} and e is {e}')"
   ]
  },
  {
   "cell_type": "markdown",
   "id": "9fe4843e-1854-470a-a5e6-0d0d2cc0f913",
   "metadata": {},
   "source": [
    "### Mapping: dict\n",
    "\n",
    "- In Python, dictionaries are used to store collections of key-value pairs, providing a way to map unique keys to corresponding values. \n",
    "- They are mutable, allowing for the addition, removal, and modification of key-value pairs. \n",
    "- Dictionaries are highly efficient for lookups, insertions, and deletions due to their underlying hash table implementation, making them ideal for situations where quick access to data via a unique key is essential. \n",
    "- Common uses include storing and retrieving data by labels, implementing caches, and managing configuration settings. \n",
    "- The ability to use various data types as keys (as long as they are immutable) and values (which can be of any type) adds to their versatility and power in organizing and managing data."
   ]
  },
  {
   "cell_type": "code",
   "execution_count": 17,
   "id": "a7129bcd-031d-40f0-9093-fc52b711d16d",
   "metadata": {},
   "outputs": [
    {
     "name": "stdout",
     "output_type": "stream",
     "text": [
      "Student Dictionary: {'name': 'Alice', 'age': 21, 'is_student': True}\n",
      "Student Name: Alice\n",
      "Updated Student Dictionary: {'name': 'Alice', 'age': 21, 'is_student': True, 'major': 'Computer Science'}\n"
     ]
    }
   ],
   "source": [
    "# Dictionaries store mappings from keys to values\n",
    "empty_dict = {}\n",
    "\n",
    "# Creating a dictionary\n",
    "student = {\n",
    "    \"name\": \"Alice\",\n",
    "    \"age\": 21,\n",
    "    \"is_student\": True\n",
    "}\n",
    "print(\"Student Dictionary:\", student)\n",
    "\n",
    "# Accessing values\n",
    "student_name = student[\"name\"]\n",
    "print(\"Student Name:\", student_name)\n",
    "\n",
    "# Adding a new key-value pair\n",
    "student[\"major\"] = \"Computer Science\"\n",
    "print(\"Updated Student Dictionary:\", student)"
   ]
  },
  {
   "cell_type": "code",
   "execution_count": 85,
   "id": "63d44104-8ad1-44b3-a712-ff59bbf082cf",
   "metadata": {},
   "outputs": [
    {
     "ename": "TypeError",
     "evalue": "unhashable type: 'list'",
     "output_type": "error",
     "traceback": [
      "\u001b[0;31m---------------------------------------------------------------------------\u001b[0m",
      "\u001b[0;31mTypeError\u001b[0m                                 Traceback (most recent call last)",
      "\u001b[0;32m/tmp/ipykernel_472/3246235655.py\u001b[0m in \u001b[0;36m<module>\u001b[0;34m\u001b[0m\n\u001b[1;32m      3\u001b[0m \u001b[0;31m# Immutable types include ints, floats, strings, tuples.\u001b[0m\u001b[0;34m\u001b[0m\u001b[0;34m\u001b[0m\u001b[0;34m\u001b[0m\u001b[0m\n\u001b[1;32m      4\u001b[0m \u001b[0mvalid_dict\u001b[0m \u001b[0;34m=\u001b[0m \u001b[0;34m{\u001b[0m\u001b[0;34m(\u001b[0m\u001b[0;36m1\u001b[0m\u001b[0;34m,\u001b[0m\u001b[0;36m2\u001b[0m\u001b[0;34m,\u001b[0m\u001b[0;36m3\u001b[0m\u001b[0;34m)\u001b[0m\u001b[0;34m:\u001b[0m\u001b[0;34m[\u001b[0m\u001b[0;36m1\u001b[0m\u001b[0;34m,\u001b[0m\u001b[0;36m2\u001b[0m\u001b[0;34m,\u001b[0m\u001b[0;36m3\u001b[0m\u001b[0;34m]\u001b[0m\u001b[0;34m}\u001b[0m   \u001b[0;31m# Values can be of any type, however.\u001b[0m\u001b[0;34m\u001b[0m\u001b[0;34m\u001b[0m\u001b[0m\n\u001b[0;32m----> 5\u001b[0;31m \u001b[0minvalid_dict\u001b[0m \u001b[0;34m=\u001b[0m \u001b[0;34m{\u001b[0m\u001b[0;34m[\u001b[0m\u001b[0;36m1\u001b[0m\u001b[0;34m,\u001b[0m\u001b[0;36m2\u001b[0m\u001b[0;34m,\u001b[0m\u001b[0;36m3\u001b[0m\u001b[0;34m]\u001b[0m\u001b[0;34m:\u001b[0m \u001b[0;34m\"123\"\u001b[0m\u001b[0;34m}\u001b[0m  \u001b[0;31m# => Yield a TypeError: unhashable type: 'list'\u001b[0m\u001b[0;34m\u001b[0m\u001b[0;34m\u001b[0m\u001b[0m\n\u001b[0m",
      "\u001b[0;31mTypeError\u001b[0m: unhashable type: 'list'"
     ]
    }
   ],
   "source": [
    "# Note keys for dictionaries have to be immutable types. This is to ensure that\n",
    "# the key can be converted to a constant hash value for quick look-ups.\n",
    "# Immutable types include ints, floats, strings, tuples.\n",
    "valid_dict = {(1,2,3):[1,2,3]}   # Values can be of any type, however.\n",
    "invalid_dict = {[1,2,3]: \"123\"}  # => Yield a TypeError: unhashable type: 'list'"
   ]
  },
  {
   "cell_type": "code",
   "execution_count": 88,
   "id": "276d2030-e7a8-4fb2-8cb5-47b3523035ed",
   "metadata": {},
   "outputs": [
    {
     "data": {
      "text/plain": [
       "['name', 'age', 'is_student', 'major']"
      ]
     },
     "execution_count": 88,
     "metadata": {},
     "output_type": "execute_result"
    }
   ],
   "source": [
    "\n",
    "# Get all keys as an iterable with \"keys()\". We need to wrap the call in list() to turn it into a list. \n",
    "# Note - for Python versions <3.7, dictionary key ordering is not guaranteed. \n",
    "# However, as of Python 3.7, dictionary items maintain the order at which they are inserted into the dictionary.\n",
    "list(student.keys())  \n"
   ]
  },
  {
   "cell_type": "code",
   "execution_count": 89,
   "id": "990f0786-6e15-48c3-8a8d-d97cc1c91dcb",
   "metadata": {},
   "outputs": [
    {
     "data": {
      "text/plain": [
       "['Alice', 21, True, 'Computer Science']"
      ]
     },
     "execution_count": 89,
     "metadata": {},
     "output_type": "execute_result"
    }
   ],
   "source": [
    "# Get all values as an iterable with \"values()\".\n",
    "# Once again we need to wrap it in list() to get it out of the iterable. \n",
    "# Note - Same as above regarding key ordering.\n",
    "list(student.values()) \n"
   ]
  },
  {
   "cell_type": "code",
   "execution_count": 92,
   "id": "cd53e855-6e53-4f59-951a-b2d9b098fd6b",
   "metadata": {},
   "outputs": [
    {
     "name": "stdout",
     "output_type": "stream",
     "text": [
      "Is name key in student?:  True\n"
     ]
    }
   ],
   "source": [
    "# Check for existence of keys in a dictionary with \"in\"\n",
    "\n",
    "print('Is name key in student?: ','name' in student)"
   ]
  },
  {
   "cell_type": "code",
   "execution_count": 93,
   "id": "e3db8736-ac98-47ef-943e-c7fc3a2c8370",
   "metadata": {},
   "outputs": [
    {
     "ename": "KeyError",
     "evalue": "'address'",
     "output_type": "error",
     "traceback": [
      "\u001b[0;31m---------------------------------------------------------------------------\u001b[0m",
      "\u001b[0;31mKeyError\u001b[0m                                  Traceback (most recent call last)",
      "\u001b[0;32m/tmp/ipykernel_472/3797897780.py\u001b[0m in \u001b[0;36m<module>\u001b[0;34m\u001b[0m\n\u001b[1;32m      1\u001b[0m \u001b[0;31m# Looking up a non-existing key is a KeyError\u001b[0m\u001b[0;34m\u001b[0m\u001b[0;34m\u001b[0m\u001b[0;34m\u001b[0m\u001b[0m\n\u001b[0;32m----> 2\u001b[0;31m \u001b[0mstudent\u001b[0m\u001b[0;34m[\u001b[0m\u001b[0;34m\"address\"\u001b[0m\u001b[0;34m]\u001b[0m  \u001b[0;31m# KeyError\u001b[0m\u001b[0;34m\u001b[0m\u001b[0;34m\u001b[0m\u001b[0m\n\u001b[0m",
      "\u001b[0;31mKeyError\u001b[0m: 'address'"
     ]
    }
   ],
   "source": [
    "# Looking up a non-existing key is a KeyError\n",
    "student[\"address\"]  # KeyError"
   ]
  },
  {
   "cell_type": "code",
   "execution_count": 95,
   "id": "54c2f5f1-5543-4885-899c-7b50b2c77cf1",
   "metadata": {},
   "outputs": [
    {
     "name": "stdout",
     "output_type": "stream",
     "text": [
      "name Alice\n",
      "address None\n",
      "name Alice\n",
      "address undefined\n"
     ]
    }
   ],
   "source": [
    "# Use \"get()\" method to avoid the KeyError\n",
    "print('name', student.get(\"name\"))\n",
    "print('address', student.get(\"address\"))\n",
    "# The get method supports a default argument when the value is missing\n",
    "print('name', student.get(\"name\", 'undefined'))\n",
    "print('address', student.get(\"address\", 'undefined'))"
   ]
  },
  {
   "cell_type": "code",
   "execution_count": 97,
   "id": "c35b1ec7-8977-4899-8cfb-fbba4b857b70",
   "metadata": {},
   "outputs": [
    {
     "name": "stdout",
     "output_type": "stream",
     "text": [
      "555555\n"
     ]
    }
   ],
   "source": [
    "# \"setdefault()\" inserts into a dictionary only if the given key isn't present\n",
    "student.setdefault(\"phone\", 555555) \n",
    "student.setdefault(\"phone\", 666666) \n",
    "print(student['phone'])"
   ]
  },
  {
   "cell_type": "code",
   "execution_count": null,
   "id": "98d162d6-1e3a-4fe8-978a-9aa6052242b4",
   "metadata": {},
   "outputs": [],
   "source": [
    "# Adding to a dictionary\n",
    "filled_dict.update({\"four\":4})  # => {\"one\": 1, \"two\": 2, \"three\": 3, \"four\": 4}\n",
    "filled_dict[\"four\"] = 4         # another way to add to dict\n",
    "\n",
    "# Remove keys from a dictionary with del\n",
    "del filled_dict[\"one\"]  # Removes the key \"one\" from filled dict\n",
    "\n",
    "# From Python 3.5 you can also use the additional unpacking options\n",
    "{'a': 1, **{'b': 2}}  # => {'a': 1, 'b': 2}\n",
    "{'a': 1, **{'a': 2}}  # => {'a': 2}"
   ]
  },
  {
   "cell_type": "markdown",
   "id": "fa114ccd-ba8e-4843-a56d-2cef54ec41e4",
   "metadata": {},
   "source": [
    "### Iterables\n",
    "\n",
    "- In Python, iterables are objects that can be iterated over, meaning they can provide elements one at a time when requested. \n",
    "- They include data structures like lists, tuples, sets, dictionaries, and strings, as well as custom objects that implement the iterable protocol by defining __iter__() and __next__() methods. \n",
    "- Iterables are fundamental to Python's looping constructs, such as for loops, list comprehensions, and generator expressions. \n",
    "- They enable efficient traversal of collections and facilitate processing of data in a systematic and organized manner. \n",
    "- By providing a consistent interface for accessing elements, iterables promote code reuse and readability, enhancing the overall expressiveness and versatility of Python programs.\n"
   ]
  },
  {
   "cell_type": "code",
   "execution_count": 122,
   "id": "90c904aa-907f-48fe-bf2b-583b8e19b7fe",
   "metadata": {},
   "outputs": [
    {
     "name": "stdout",
     "output_type": "stream",
     "text": [
      "dict_keys(['one', 'two', 'three'])\n"
     ]
    }
   ],
   "source": [
    "# Python offers a fundamental abstraction called the Iterable.\n",
    "# An iterable is an object that can be treated as a sequence.\n",
    "# The object returned by the range function, is an iterable.\n",
    "\n",
    "filled_dict = {\"one\": 1, \"two\": 2, \"three\": 3}\n",
    "our_iterable = filled_dict.keys()\n",
    "print(our_iterable)  # => dict_keys(['one', 'two', 'three']). This is an object\n",
    "                     # that implements our Iterable interface."
   ]
  },
  {
   "cell_type": "code",
   "execution_count": 123,
   "id": "fd7140f4-e48d-43ed-9e25-a0407245e97e",
   "metadata": {},
   "outputs": [
    {
     "name": "stdout",
     "output_type": "stream",
     "text": [
      "one\n",
      "two\n",
      "three\n"
     ]
    }
   ],
   "source": [
    "# We can loop over it.\n",
    "for i in our_iterable:\n",
    "    print(i)  # Prints one, two, three"
   ]
  },
  {
   "cell_type": "code",
   "execution_count": 124,
   "id": "58e5da6d-bd09-4247-a046-eb0b9b58fd27",
   "metadata": {},
   "outputs": [
    {
     "ename": "TypeError",
     "evalue": "'dict_keys' object is not subscriptable",
     "output_type": "error",
     "traceback": [
      "\u001b[0;31m---------------------------------------------------------------------------\u001b[0m",
      "\u001b[0;31mTypeError\u001b[0m                                 Traceback (most recent call last)",
      "Cell \u001b[0;32mIn [124], line 2\u001b[0m\n\u001b[1;32m      1\u001b[0m \u001b[38;5;66;03m# However we cannot address elements by index.\u001b[39;00m\n\u001b[0;32m----> 2\u001b[0m \u001b[43mour_iterable\u001b[49m\u001b[43m[\u001b[49m\u001b[38;5;241;43m1\u001b[39;49m\u001b[43m]\u001b[49m\n",
      "\u001b[0;31mTypeError\u001b[0m: 'dict_keys' object is not subscriptable"
     ]
    }
   ],
   "source": [
    "# However we cannot address elements by index.\n",
    "our_iterable[1]  # Raises a TypeError"
   ]
  },
  {
   "cell_type": "code",
   "execution_count": 131,
   "id": "b7ea53d2-4601-428b-b876-782b42c03bd3",
   "metadata": {},
   "outputs": [],
   "source": [
    "# An iterable is an object that knows how to create an iterator.\n",
    "our_iterator = iter(our_iterable)"
   ]
  },
  {
   "cell_type": "code",
   "execution_count": 132,
   "id": "26933931-1bfc-4f01-9f7b-bed0459b3916",
   "metadata": {},
   "outputs": [
    {
     "data": {
      "text/plain": [
       "'one'"
      ]
     },
     "execution_count": 132,
     "metadata": {},
     "output_type": "execute_result"
    }
   ],
   "source": [
    "# Our iterator is an object that can remember the state as we traverse through\n",
    "# it. We get the next object with \"next()\".\n",
    "next(our_iterator)  # => \"one\""
   ]
  },
  {
   "cell_type": "code",
   "execution_count": 133,
   "id": "84786495-7e51-46cd-91bc-7ebc73c40abc",
   "metadata": {},
   "outputs": [
    {
     "name": "stdout",
     "output_type": "stream",
     "text": [
      "two\n",
      "three\n"
     ]
    }
   ],
   "source": [
    "# It maintains state as we iterate.\n",
    "print(next(our_iterator))  # => \"two\"\n",
    "print(next(our_iterator))  # => \"three\""
   ]
  },
  {
   "cell_type": "code",
   "execution_count": 130,
   "id": "f031c767-4eec-4ff6-86cc-716b3e882950",
   "metadata": {},
   "outputs": [
    {
     "ename": "StopIteration",
     "evalue": "",
     "output_type": "error",
     "traceback": [
      "\u001b[0;31m---------------------------------------------------------------------------\u001b[0m",
      "\u001b[0;31mStopIteration\u001b[0m                             Traceback (most recent call last)",
      "\u001b[0;32m/tmp/ipykernel_472/1031598001.py\u001b[0m in \u001b[0;36m<module>\u001b[0;34m\u001b[0m\n\u001b[1;32m      1\u001b[0m \u001b[0;31m# After the iterator has returned all of its data, it raises a\u001b[0m\u001b[0;34m\u001b[0m\u001b[0;34m\u001b[0m\u001b[0;34m\u001b[0m\u001b[0m\n\u001b[1;32m      2\u001b[0m \u001b[0;31m# StopIteration exception\u001b[0m\u001b[0;34m\u001b[0m\u001b[0;34m\u001b[0m\u001b[0;34m\u001b[0m\u001b[0m\n\u001b[0;32m----> 3\u001b[0;31m \u001b[0mnext\u001b[0m\u001b[0;34m(\u001b[0m\u001b[0mour_iterator\u001b[0m\u001b[0;34m)\u001b[0m  \u001b[0;31m# Raises StopIteration\u001b[0m\u001b[0;34m\u001b[0m\u001b[0;34m\u001b[0m\u001b[0m\n\u001b[0m\u001b[1;32m      4\u001b[0m \u001b[0;34m\u001b[0m\u001b[0m\n",
      "\u001b[0;31mStopIteration\u001b[0m: "
     ]
    }
   ],
   "source": [
    "# After the iterator has returned all of its data, it raises a\n",
    "# StopIteration exception\n",
    "next(our_iterator)  # Raises StopIteration"
   ]
  },
  {
   "cell_type": "code",
   "execution_count": 134,
   "id": "86df040a-7220-4ef9-8ec7-3d6812695a71",
   "metadata": {},
   "outputs": [
    {
     "name": "stdout",
     "output_type": "stream",
     "text": [
      "one\n",
      "two\n",
      "three\n"
     ]
    }
   ],
   "source": [
    "# We can also loop over it, in fact, \"for\" does this implicitly!\n",
    "our_iterator = iter(our_iterable)\n",
    "for i in our_iterator:\n",
    "    print(i)  # Prints one, two, three"
   ]
  },
  {
   "cell_type": "code",
   "execution_count": 136,
   "id": "8ca21e21-80d3-49d2-8138-684cdc06f650",
   "metadata": {},
   "outputs": [
    {
     "data": {
      "text/plain": [
       "['one', 'two', 'three']"
      ]
     },
     "execution_count": 136,
     "metadata": {},
     "output_type": "execute_result"
    }
   ],
   "source": [
    "# You can grab all the elements of an iterable or iterator by call of list().\n",
    "list(our_iterable)  # => Returns [\"one\", \"two\", \"three\"]"
   ]
  },
  {
   "cell_type": "code",
   "execution_count": 137,
   "id": "a8be6b74-21dd-4194-8fce-272a231fe365",
   "metadata": {},
   "outputs": [
    {
     "data": {
      "text/plain": [
       "[]"
      ]
     },
     "execution_count": 137,
     "metadata": {},
     "output_type": "execute_result"
    }
   ],
   "source": [
    "list(our_iterator)  # => Returns [] because state is saved"
   ]
  },
  {
   "cell_type": "markdown",
   "id": "5d3307eb-4323-4fb1-9fa6-0e269ff607b1",
   "metadata": {},
   "source": [
    "### Sets\n",
    "\n",
    "- In Python, sets are used to store collections of unique, unordered elements. \n",
    "- They are mutable, allowing elements to be added or removed, but they do not allow duplicate elements, ensuring that each element appears only once. \n",
    "- Sets are highly efficient for membership testing, removing duplicates from a sequence, and performing mathematical operations like union, intersection, and difference. \n",
    "- They are ideal for situations where the presence or absence of an element is more important than the order or number of occurrences, such as managing unique items, eliminating duplicates, and performing fast set operations. \n",
    "- Due to their hash table implementation, sets provide average time complexity of O(1) for add, remove, and check operations."
   ]
  },
  {
   "cell_type": "code",
   "execution_count": 138,
   "id": "9106fb35-5b23-4f83-b1ab-9b02040fe1dc",
   "metadata": {},
   "outputs": [
    {
     "name": "stdout",
     "output_type": "stream",
     "text": [
      "{1, 2, 3, 4}\n"
     ]
    }
   ],
   "source": [
    "# Sets store ... well sets\n",
    "empty_set = set()\n",
    "# Initialize a set with a bunch of values.\n",
    "# Note how duplicates are removed\n",
    "some_set = {1, 1, 2, 2, 3, 4}  # some_set is now {1, 2, 3, 4}\n",
    "print(some_set)"
   ]
  },
  {
   "cell_type": "code",
   "execution_count": 139,
   "id": "8919e54b-3a82-43bc-8de3-8251310624ee",
   "metadata": {},
   "outputs": [],
   "source": [
    "# Similar to keys of a dictionary, elements of a set have to be immutable.\n",
    "valid_set = {(1,), 1}"
   ]
  },
  {
   "cell_type": "code",
   "execution_count": 140,
   "id": "d0f7e6ac-96c5-4eea-9b98-63d8ab15e180",
   "metadata": {},
   "outputs": [
    {
     "ename": "TypeError",
     "evalue": "unhashable type: 'list'",
     "output_type": "error",
     "traceback": [
      "\u001b[0;31m---------------------------------------------------------------------------\u001b[0m",
      "\u001b[0;31mTypeError\u001b[0m                                 Traceback (most recent call last)",
      "Cell \u001b[0;32mIn [140], line 1\u001b[0m\n\u001b[0;32m----> 1\u001b[0m invalid_set \u001b[38;5;241m=\u001b[39m {[\u001b[38;5;241m1\u001b[39m], \u001b[38;5;241m1\u001b[39m}\n",
      "\u001b[0;31mTypeError\u001b[0m: unhashable type: 'list'"
     ]
    }
   ],
   "source": [
    "invalid_set = {[1], 1}  # => Raises a TypeError: unhashable type: 'list'"
   ]
  },
  {
   "cell_type": "code",
   "execution_count": 141,
   "id": "b72a7746-6cf9-4208-a6e1-ebf44278ac77",
   "metadata": {},
   "outputs": [
    {
     "name": "stdout",
     "output_type": "stream",
     "text": [
      "filled set: {1, 2, 3, 4, 5}\n"
     ]
    }
   ],
   "source": [
    "# Add one more item to the set\n",
    "filled_set = some_set\n",
    "filled_set.add(5)  # filled_set is now {1, 2, 3, 4, 5}\n",
    "print('filled set:',filled_set)"
   ]
  },
  {
   "cell_type": "code",
   "execution_count": 142,
   "id": "5587f9d2-e431-4efb-ac20-ffa51768a5fc",
   "metadata": {},
   "outputs": [
    {
     "name": "stdout",
     "output_type": "stream",
     "text": [
      "{1, 2, 3, 4, 5}\n"
     ]
    }
   ],
   "source": [
    "# Sets do not have duplicate elements\n",
    "filled_set.add(5)  # it remains as before {1, 2, 3, 4, 5}\n",
    "print(filled_set)"
   ]
  },
  {
   "cell_type": "code",
   "execution_count": 143,
   "id": "bcde7709-7e3b-43b0-ae9f-e05a2869baf9",
   "metadata": {},
   "outputs": [
    {
     "name": "stdout",
     "output_type": "stream",
     "text": [
      "other set: {3, 4, 5, 6}\n",
      "intersection: {3, 4, 5}\n"
     ]
    }
   ],
   "source": [
    "# Do set intersection with &\n",
    "other_set = {3, 4, 5, 6}\n",
    "print('other set:', other_set)\n",
    "filled_set & other_set  # => {3, 4, 5}\n",
    "print('intersection:',filled_set & other_set)"
   ]
  },
  {
   "cell_type": "code",
   "execution_count": 144,
   "id": "89d6029a-31b0-4d72-a0f4-779371318f84",
   "metadata": {},
   "outputs": [
    {
     "name": "stdout",
     "output_type": "stream",
     "text": [
      "union: {1, 2, 3, 4, 5, 6}\n"
     ]
    }
   ],
   "source": [
    "# Do set union with |\n",
    "filled_set | other_set  # => {1, 2, 3, 4, 5, 6}\n",
    "print('union:',filled_set | other_set)"
   ]
  },
  {
   "cell_type": "code",
   "execution_count": 145,
   "id": "4d5d8333-cb8e-4545-a9b5-d030bd75e03d",
   "metadata": {},
   "outputs": [
    {
     "name": "stdout",
     "output_type": "stream",
     "text": [
      "difference: {1, 2}\n"
     ]
    }
   ],
   "source": [
    "# Do set difference with -\n",
    "{1, 2, 3, 4} - {2, 3, 5}  # => {1, 4}\n",
    "print('difference:', filled_set - other_set)"
   ]
  },
  {
   "cell_type": "code",
   "execution_count": 146,
   "id": "e39e3ab1-bd17-40bb-9746-69365fca27eb",
   "metadata": {},
   "outputs": [
    {
     "name": "stdout",
     "output_type": "stream",
     "text": [
      "symetric difference: {1, 2, 6}\n"
     ]
    }
   ],
   "source": [
    "# Do set symmetric difference with ^\n",
    "{1, 2, 3, 4} ^ {2, 3, 5}  # => {1, 4, 5}\n",
    "print('symetric difference:', filled_set ^ other_set)"
   ]
  },
  {
   "cell_type": "code",
   "execution_count": 147,
   "id": "fc7e4898-08ac-403c-998f-19ff178a3d60",
   "metadata": {},
   "outputs": [
    {
     "name": "stdout",
     "output_type": "stream",
     "text": [
      "filled_set is superset of other_set: False\n"
     ]
    }
   ],
   "source": [
    "# Check if set on the left is a superset of set on the right\n",
    "{1, 2} >= {1, 2, 3} # => False\n",
    "print('filled_set is superset of other_set:', filled_set >= other_set)"
   ]
  },
  {
   "cell_type": "code",
   "execution_count": 148,
   "id": "a5183ec8-69bb-4a48-81de-434cb36bf238",
   "metadata": {},
   "outputs": [
    {
     "name": "stdout",
     "output_type": "stream",
     "text": [
      "filled_set is subset of other_set: False\n"
     ]
    }
   ],
   "source": [
    "# Check if set on the left is a subset of set on the right\n",
    "{1, 2} <= {1, 2, 3} # => True\n",
    "print('filled_set is subset of other_set:', filled_set <= other_set)"
   ]
  },
  {
   "cell_type": "code",
   "execution_count": 149,
   "id": "a12d9caa-8c64-4625-afc4-aad06fe78926",
   "metadata": {},
   "outputs": [
    {
     "name": "stdout",
     "output_type": "stream",
     "text": [
      "2 is in filled_set: True\n"
     ]
    }
   ],
   "source": [
    "# Check for existence in a set with in\n",
    "2 in filled_set   # => True\n",
    "10 in filled_set  # => False\n",
    "print('2 is in filled_set:', 2 in filled_set)"
   ]
  },
  {
   "cell_type": "code",
   "execution_count": 150,
   "id": "9bc36dae-2668-4e1d-8333-b5ce432f6354",
   "metadata": {},
   "outputs": [
    {
     "data": {
      "text/plain": [
       "False"
      ]
     },
     "execution_count": 150,
     "metadata": {},
     "output_type": "execute_result"
    }
   ],
   "source": [
    "# Make a one layer deep copy\n",
    "filled_set = some_set.copy()  # filled_set is {1, 2, 3, 4, 5}\n",
    "filled_set is some_set        # => False"
   ]
  },
  {
   "cell_type": "markdown",
   "id": "f2db8a93-286c-4320-8c1d-7c183a3a1a60",
   "metadata": {
    "jp-MarkdownHeadingCollapsed": true,
    "tags": []
   },
   "source": [
    "## 2. Basic Arithmetic Operations\n",
    "\n",
    "Performing basic mathematical calculations is essential for a wide range of applications, from simple scripts to complex scientific computations. \n",
    "\n",
    "These operations include addition, subtraction, multiplication, division, and more advanced operations like exponentiation and modulo. \n"
   ]
  },
  {
   "cell_type": "code",
   "execution_count": 45,
   "id": "78e01f90-5662-41bb-b7c2-71245588a0b8",
   "metadata": {},
   "outputs": [
    {
     "name": "stdout",
     "output_type": "stream",
     "text": [
      "Sum: 5.4\n"
     ]
    }
   ],
   "source": [
    "# Addition\n",
    "x = 3\n",
    "y = 2.4\n",
    "3 + 2.4 # => 5.4\n",
    "sum_result = x + y\n",
    "print(\"Sum:\", sum_result)"
   ]
  },
  {
   "cell_type": "code",
   "execution_count": 44,
   "id": "a1044782-2b6f-4240-ae0c-d1dbbdddb4b3",
   "metadata": {},
   "outputs": [
    {
     "name": "stdout",
     "output_type": "stream",
     "text": [
      "Difference: 7\n"
     ]
    }
   ],
   "source": [
    "# Subtraction\n",
    "x = 8\n",
    "y = 1\n",
    "8 - 1   # => 7\n",
    "difference = x - y\n",
    "print(\"Difference:\", difference)"
   ]
  },
  {
   "cell_type": "code",
   "execution_count": 46,
   "id": "9cce12a6-66b3-4aea-8ce3-494d9e7abb1a",
   "metadata": {},
   "outputs": [
    {
     "name": "stdout",
     "output_type": "stream",
     "text": [
      "Product: 20\n"
     ]
    }
   ],
   "source": [
    "# Multiplication\n",
    "x = 10\n",
    "y = 2\n",
    "10 * 2  # => 20\n",
    "product = x * y\n",
    "print(\"Product:\", product)"
   ]
  },
  {
   "cell_type": "code",
   "execution_count": 47,
   "id": "e6802526-c04d-41ed-a61b-5dd895b63efd",
   "metadata": {},
   "outputs": [
    {
     "name": "stdout",
     "output_type": "stream",
     "text": [
      "Quotient: 7.0\n"
     ]
    }
   ],
   "source": [
    "# Division\n",
    "# The result of division is always a float\n",
    "x = 35\n",
    "y = 5\n",
    "35 / 5  # => 7.0\n",
    "quotient = x / y\n",
    "print(\"Quotient:\", quotient)"
   ]
  },
  {
   "cell_type": "code",
   "execution_count": 50,
   "id": "48cc89f6-cb4e-434c-b60f-ab396fccad99",
   "metadata": {},
   "outputs": [
    {
     "name": "stdout",
     "output_type": "stream",
     "text": [
      "Integer Quotient: 7\n",
      "5 // 3: 1\n",
      "-5 // 3: -2\n",
      "5.0 // 3.0: 1.0\n",
      "-5.0 // 3.0: -2.0\n"
     ]
    }
   ],
   "source": [
    "# Integer Division\n",
    "int_quotient = x // y\n",
    "print(\"Integer Quotient:\", int_quotient)\n",
    "# Integer division rounds down for both positive and negative numbers.\n",
    "print(f'5 // 3: {5 // 3}')       # => 1\n",
    "print(f'-5 // 3: {-5 // 3}')      # => -2\n",
    "print(f'5.0 // 3.0: {5.0 // 3.0}')    # => 1.0 # works on floats too\n",
    "print(f'-5.0 // 3.0: {-5.0 // 3.0}')    # => -2.0"
   ]
  },
  {
   "cell_type": "code",
   "execution_count": 52,
   "id": "2ec287cd-c0f0-479b-b0a4-2d6b7b2f6091",
   "metadata": {},
   "outputs": [
    {
     "name": "stdout",
     "output_type": "stream",
     "text": [
      "Remainder: 1\n"
     ]
    }
   ],
   "source": [
    "# Modulus (Remainder)\n",
    "x = 7\n",
    "y = 3\n",
    "7 % 3   # => 1\n",
    "remainder = x % y\n",
    "print(\"Remainder:\", remainder)\n",
    "# Often you'll want to know what is the remainder after a division.e.g. 4 ÷ 2 = 2 with no remainder but 5 ÷ 2 = 2 with 1 remainder\n",
    "# The modulo does not give you the result of the division, just the remainder.\n",
    "# It can be really helpful in certain situations,e.g. figuring out if a number is odd or even"
   ]
  },
  {
   "cell_type": "code",
   "execution_count": 53,
   "id": "bdc78e68-3b82-49ba-8b6c-6bb9e9063f68",
   "metadata": {},
   "outputs": [
    {
     "name": "stdout",
     "output_type": "stream",
     "text": [
      "Exponent: 8\n"
     ]
    }
   ],
   "source": [
    "# Exponentiation (x**y, x to the yth power)\n",
    "x = 2\n",
    "y = 3\n",
    "2**3  # => 8\n",
    "exponent = x ** y\n",
    "print(\"Exponent:\", exponent)"
   ]
  },
  {
   "cell_type": "code",
   "execution_count": 56,
   "id": "7b76632d-4f60-4378-8d44-8b685d65fb87",
   "metadata": {},
   "outputs": [
    {
     "name": "stdout",
     "output_type": "stream",
     "text": [
      "x += 2 : 8\n"
     ]
    }
   ],
   "source": [
    "# The += Operator is a convenient way to modify a variable.\n",
    "# It takes the existing value in a variableand adds to it.\n",
    "# You can also use any of the othermathematical operators e.g. -= or *=\n",
    "x += 2 \n",
    "# same as x = x + 2\n",
    "print(\"x += 2 :\", x)"
   ]
  },
  {
   "cell_type": "code",
   "execution_count": 59,
   "id": "6b56d836-7bea-4917-804a-321d20dd5848",
   "metadata": {},
   "outputs": [
    {
     "name": "stdout",
     "output_type": "stream",
     "text": [
      "1 + 3 * 2   : 7\n",
      "(1 + 3) * 2 : 8\n"
     ]
    }
   ],
   "source": [
    "# Enforce precedence with parentheses\n",
    "print(f'1 + 3 * 2   : {1 + 3 * 2}')   # => 7\n",
    "print(f'(1 + 3) * 2 : {(1 + 3) * 2}')  # => 8\n"
   ]
  },
  {
   "cell_type": "code",
   "execution_count": 60,
   "id": "335887c5-7410-4d6d-98cc-87e61e6df840",
   "metadata": {},
   "outputs": [
    {
     "name": "stdout",
     "output_type": "stream",
     "text": [
      "4.6\n"
     ]
    }
   ],
   "source": [
    "# abs returns the absolute value.Basically removing any -ve signs\n",
    "print(abs(-4.6))"
   ]
  },
  {
   "cell_type": "code",
   "execution_count": 62,
   "id": "c741452a-d063-4415-8a5b-b28c3d65f449",
   "metadata": {},
   "outputs": [
    {
     "name": "stdout",
     "output_type": "stream",
     "text": [
      "5\n",
      "4.7\n"
     ]
    }
   ],
   "source": [
    "# round does a mathematical round.So 3.1 becomes 3, 4.5 becomes 5and 5.8 becomes 6.\n",
    "print(round(4.6))\n",
    "# we can pass it a value indicating the number of decimal points we want to keep\n",
    "print(round(4.68,1))"
   ]
  },
  {
   "cell_type": "markdown",
   "id": "61f5af9a-f2ab-4204-b243-fb858398a8b1",
   "metadata": {},
   "source": [
    "**why 10 - 3.14 is not exactly 6.86?**\n",
    "\n",
    "Floating-point numbers are used in computing to represent real numbers that have fractional parts. \n",
    "However, floating-point arithmetic can sometimes lead to unexpected results due to the way these numbers are stored in memory.\n",
    "\n",
    "How Floating-Point Numbers are Stored\n",
    "Computers represent floating-point numbers using a finite amount of memory, typically following the IEEE 754 standard. This standard represents a floating-point number in three parts:\n",
    "- Sign bit: Indicates whether the number is positive or negative.\n",
    "- Exponent: Scales the number.\n",
    "- Significand (or Mantissa): Represents the precision bits of the number.\n",
    "Because floating-point numbers have a limited precision, not all decimal numbers can be represented exactly. Some numbers are approximated to the closest representable value.\n",
    "\n",
    "The number 3.14 cannot be represented exactly as a binary floating-point number. The closest representation might be something like 3.1400000000000001.\n",
    "When you subtract this approximate value from 10, the result is also an approximation, hence the slight difference."
   ]
  },
  {
   "cell_type": "code",
   "execution_count": 6,
   "id": "179dc490-1800-4729-986e-10affce25774",
   "metadata": {},
   "outputs": [
    {
     "name": "stdout",
     "output_type": "stream",
     "text": [
      "Expected result: 6.86\n",
      "Actual result:  6.859999999999999\n"
     ]
    }
   ],
   "source": [
    "a = 10\n",
    "b = 3.14\n",
    "result = a - b\n",
    "\n",
    "print(\"Expected result: 6.86\")\n",
    "print(\"Actual result: \", result)"
   ]
  },
  {
   "cell_type": "markdown",
   "id": "8c009389-e586-44e1-86ed-4daa0e61f9a1",
   "metadata": {},
   "source": [
    "**How to handle floating-point arithmetic issues** \n",
    "To handle floating-point arithmetic issues, you can use a few techniques:\n",
    "- Rounding: Round the result to a fixed number of decimal places if exact precision is not critical.\n",
    "- Decimal Module: Use Python's decimal module for precise decimal arithmetic."
   ]
  },
  {
   "cell_type": "code",
   "execution_count": 7,
   "id": "1be2034b-7da2-40aa-9be8-16b12a2523d6",
   "metadata": {},
   "outputs": [
    {
     "name": "stdout",
     "output_type": "stream",
     "text": [
      "Rounded result:  6.86\n",
      "Decimal result:  6.86\n"
     ]
    }
   ],
   "source": [
    "rounded_result = round(result, 2)\n",
    "print(\"Rounded result: \", rounded_result)  # Outputs: 6.86\n",
    "\n",
    "from decimal import Decimal\n",
    "a = Decimal('10')\n",
    "b = Decimal('3.14')\n",
    "result = a - b\n",
    "print(\"Decimal result: \", result)  # Outputs: 6.86"
   ]
  },
  {
   "cell_type": "markdown",
   "id": "ec276872-0f7e-44e1-ae6d-5987544fa059",
   "metadata": {},
   "source": [
    "**Conclusion**\n",
    "- Floating-point arithmetic can lead to small precision errors due to the way numbers are represented in binary format. \n",
    "- Understanding this limitation is crucial for debugging and writing accurate numerical computations in your programs. \n",
    "- By using techniques like rounding or the decimal module, you can manage and mitigate these issues effectively."
   ]
  },
  {
   "cell_type": "markdown",
   "id": "bbace111-3639-41a6-aef6-9effce17152b",
   "metadata": {
    "jp-MarkdownHeadingCollapsed": true,
    "tags": []
   },
   "source": [
    "## 3 Control Flow and Iterables\n"
   ]
  },
  {
   "cell_type": "markdown",
   "id": "ea80bfc1-fc40-4b8b-ab2c-7c7632d2ae6f",
   "metadata": {},
   "source": [
    "#### Comparisons\n",
    "\n",
    "- None, 0, and empty strings/lists/dicts/tuples/sets all evaluate to False. The rest are True\n",
    "- Equality and same type is **===**\n",
    "- Equality is **==**\n",
    "- Inequality is **!=**\n",
    "- It's possible to chain < <= > >= operators for example to check if a value is in range 2 < x < 7\n",
    "- Don't use the equality \"==\" symbol to compare objects to None. Use **\"is\"** instead. This checks for equality of object identity.\n"
   ]
  },
  {
   "cell_type": "code",
   "execution_count": 151,
   "id": "83abc9fc-08d5-4788-b1d8-a3e53ff8979c",
   "metadata": {},
   "outputs": [
    {
     "name": "stdout",
     "output_type": "stream",
     "text": [
      "0 == False : True\n",
      "2 > True   : True\n",
      "2 == True  : False\n",
      "-5 != False: True\n"
     ]
    }
   ],
   "source": [
    "# Comparison operators look at the numerical value of True and False\n",
    "0 == False  # => True\n",
    "print(f'0 == False : {0 == False}')\n",
    "2 > True    # => True\n",
    "print(f'2 > True   : {2 > True}') \n",
    "2 == True   # => False\n",
    "print(f'2 == True  : {2 == True}')\n",
    "-5 != False # => True\n",
    "print(f'-5 != False: {-5 != False}') # => True"
   ]
  },
  {
   "cell_type": "code",
   "execution_count": 153,
   "id": "9b75f527-7c74-49ee-9f54-16f6fab31be2",
   "metadata": {},
   "outputs": [
    {
     "name": "stdout",
     "output_type": "stream",
     "text": [
      "False\n",
      "False\n",
      "False\n",
      "False\n",
      "False\n",
      "False\n"
     ]
    }
   ],
   "source": [
    "# None, 0, and empty strings/lists/dicts/tuples/sets all evaluate to False.\n",
    "\n",
    "print(bool(0))     # => False\n",
    "print(bool(\"\"))    # => False\n",
    "print(bool([]))    # => False\n",
    "print(bool({}))    # => False\n",
    "print(bool(()))    # => False\n",
    "print(bool(set())) # => False\n"
   ]
  },
  {
   "cell_type": "code",
   "execution_count": 152,
   "id": "3e8e1e4a-1852-4eb6-a217-cfc62e3e42a6",
   "metadata": {},
   "outputs": [
    {
     "name": "stdout",
     "output_type": "stream",
     "text": [
      "True\n",
      "True\n"
     ]
    }
   ],
   "source": [
    "# All other values are True\n",
    "print(bool(4) )    # => True\n",
    "print(bool(-6))    # => True"
   ]
  },
  {
   "cell_type": "code",
   "execution_count": 156,
   "id": "5a35f929-d328-4353-a689-2b97c8a91752",
   "metadata": {},
   "outputs": [
    {
     "name": "stdout",
     "output_type": "stream",
     "text": [
      "False\n",
      "True\n",
      "True\n"
     ]
    }
   ],
   "source": [
    "# Using boolean logical operators on ints casts them to booleans for evaluation, but their non-cast value is returned. \n",
    "\n",
    "print(bool(0))     # => False\n",
    "print(bool(2))     # => True\n",
    "print(bool(-5))    # => True\n"
   ]
  },
  {
   "cell_type": "code",
   "execution_count": 155,
   "id": "10b15a6c-fd9a-4763-b702-b37c35546396",
   "metadata": {},
   "outputs": [
    {
     "name": "stdout",
     "output_type": "stream",
     "text": [
      "-5\n",
      "0\n"
     ]
    }
   ],
   "source": [
    "# Don't mix up with bool(ints) and bitwise and/or (&,|)\n",
    "print(-5 or 0)     # => -5\n",
    "print(0 and 2)     # => 0"
   ]
  },
  {
   "cell_type": "code",
   "execution_count": 157,
   "id": "a1a77b0c-1ab9-43ec-9bf4-e66931b97327",
   "metadata": {},
   "outputs": [
    {
     "name": "stdout",
     "output_type": "stream",
     "text": [
      "True\n",
      "False\n"
     ]
    }
   ],
   "source": [
    "# Equality is ==\n",
    "print(1 == 1)  # => True\n",
    "print(2 == 1)  # => False\n"
   ]
  },
  {
   "cell_type": "code",
   "execution_count": 159,
   "id": "dfe1effd-41bd-45d0-8c5d-de5dbae458cb",
   "metadata": {},
   "outputs": [
    {
     "name": "stdout",
     "output_type": "stream",
     "text": [
      "False\n",
      "True\n"
     ]
    }
   ],
   "source": [
    "# Inequality is !=\n",
    "print(1 != 1)  # => False\n",
    "print(2 != 1)  # => True"
   ]
  },
  {
   "cell_type": "code",
   "execution_count": 158,
   "id": "a30c1940-9a3e-4d40-ae8c-3de286b9eef0",
   "metadata": {},
   "outputs": [
    {
     "name": "stdout",
     "output_type": "stream",
     "text": [
      "True\n",
      "False\n",
      "True\n",
      "True\n"
     ]
    }
   ],
   "source": [
    "# More comparisons\n",
    "print(1 < 10)  # => True\n",
    "print(1 > 10)  # => False\n",
    "print(2 <= 2)  # => True\n",
    "print(2 >= 2)  # => True"
   ]
  },
  {
   "cell_type": "code",
   "execution_count": 161,
   "id": "dfacbed6-8f70-404f-a944-dd0a39f105b1",
   "metadata": {},
   "outputs": [
    {
     "name": "stdout",
     "output_type": "stream",
     "text": [
      "1 < 2 and 2 < 3  : True\n",
      "1 < 2 < 3        : True\n"
     ]
    }
   ],
   "source": [
    "# Seeing whether a value is in a range\n",
    "print(f'1 < 2 and 2 < 3  : {1 < 2 and 2 < 3}')  # => True\n",
    "\n",
    "# Chaining makes this look nicer\n",
    "print(f'1 < 2 < 3        : {1 < 2 < 3}')\n"
   ]
  },
  {
   "cell_type": "code",
   "execution_count": 171,
   "id": "3b457d8f-fd04-4345-ad87-ea5e4f6b1add",
   "metadata": {},
   "outputs": [
    {
     "name": "stdout",
     "output_type": "stream",
     "text": [
      "if a = [1, 2, 3, 4] and b = [1, 2, 3, 4] then b is a : True  and b == a: True\n",
      "if a = [1, 2, 3, 4] and b = [1, 2, 3, 4] then b is a : False and b == a: True\n"
     ]
    }
   ],
   "source": [
    "# IS vs. == \n",
    "# is checks if two variables refer to the same object\n",
    "# == checks if the objects pointed to have the same values.\n",
    "a = [1, 2, 3, 4]  # Point a at a new list, [1, 2, 3, 4]\n",
    "b = a             # Point b at what a is pointing to\n",
    "b is a            # => True, a and b refer to the same object\n",
    "print(f'if a = {a} and b = {b} then b is a : {b is a}  and b == a: {b == a}')\n",
    "\n",
    "a = [1, 2, 3, 4]  # Point a at a new list, [1, 2, 3, 4]\n",
    "b = [1, 2, 3, 4]  # Point b at a new list, [1, 2, 3, 4]\n",
    "print(f'if a = {a} and b = {b} then b is a : {b is a} and b == a: {b == a}')"
   ]
  },
  {
   "cell_type": "code",
   "execution_count": 40,
   "id": "79d13aba-5329-42d5-9a97-4e9dac8da478",
   "metadata": {},
   "outputs": [
    {
     "name": "stdout",
     "output_type": "stream",
     "text": [
      "False\n",
      "True\n"
     ]
    }
   ],
   "source": [
    "print(\"etc\" == None)  # => False\n",
    "print(None is None)   # => True"
   ]
  },
  {
   "cell_type": "markdown",
   "id": "0b8e9c35-9621-4487-bfa7-fb255b0c1ac4",
   "metadata": {
    "tags": []
   },
   "source": [
    "#### Conditional Statements\n",
    "\n",
    "Conditional statements in Python, such as if, elif, and else, are used to execute different blocks of code based on certain conditions. \n",
    "\n",
    "These statements allow programs to make decisions and respond dynamically to various inputs or states. \n",
    "\n",
    "- The **if** statement evaluates a condition and, if true, executes the corresponding block of code. \n",
    "- The **elif** (short for \"else if\") statement provides additional conditions to check if the initial if condition is false, allowing for multiple possible branches of execution. \n",
    "- The **else** statement acts as a catch-all, executing its block of code if none of the preceding conditions are true. \n",
    "\n",
    "These control structures are essential for implementing logic and flow control in programs, enabling complex decision-making and behavior based on variable states and inputs."
   ]
  },
  {
   "cell_type": "code",
   "execution_count": 53,
   "id": "d54352f2-2d53-47bd-8cad-9fbda8827514",
   "metadata": {},
   "outputs": [
    {
     "name": "stdout",
     "output_type": "stream",
     "text": [
      "You just became an adult.\n"
     ]
    }
   ],
   "source": [
    "# if-elif-else\n",
    "age = 18\n",
    "\n",
    "if age < 18:\n",
    "    print(\"You are a minor.\")\n",
    "elif age == 18:\n",
    "    print(\"You just became an adult.\")\n",
    "else:\n",
    "    print(\"You are an adult.\")    "
   ]
  },
  {
   "cell_type": "code",
   "execution_count": 64,
   "id": "8ab712a2-0df7-43ed-8ed7-674d2239e30b",
   "metadata": {},
   "outputs": [
    {
     "data": {
      "text/plain": [
       "'nay!'"
      ]
     },
     "execution_count": 64,
     "metadata": {},
     "output_type": "execute_result"
    }
   ],
   "source": [
    "# if can be used as an expression\n",
    "# <value_if_true> if <condition> else <value_if_false>\n",
    "\n",
    "\"yay!\" if 0 > 1 else \"nay!\"  # => \"nay!\""
   ]
  },
  {
   "cell_type": "markdown",
   "id": "4f7abb2f-4dc2-4958-bce1-9f6fa5fa4cae",
   "metadata": {},
   "source": [
    "#### For Loops\n",
    "For loops in Python are used to iterate over a sequence of elements, such as lists, tuples, strings, or ranges, executing a block of code repeatedly for each element in the sequence. \n",
    "\n",
    "The syntax involves the **for** keyword followed by a variable that takes on the value of each element in the sequence, and a colon to denote the start of the indented code block to be executed on each iteration. \n",
    "\n",
    "For loops are powerful for tasks like traversing data structures, executing repetitive tasks, and automating processes. \n",
    "\n",
    "They provide a clear and concise way to handle iteration, making it easy to work with collections and perform operations on each element systematically."
   ]
  },
  {
   "cell_type": "code",
   "execution_count": 27,
   "id": "5ea3e31c-bf10-471f-9399-3fc8ad441a27",
   "metadata": {},
   "outputs": [
    {
     "name": "stdout",
     "output_type": "stream",
     "text": [
      "For Loop:\n",
      "0\n",
      "1\n",
      "2\n"
     ]
    }
   ],
   "source": [
    "# for loop\n",
    "# For loops give you more control than while loops. \n",
    "#You can loop through anythingthat is iterable. e.g. a range, a list, a dictionaryor tuple\n",
    "print(\"For Loop:\")\n",
    "\"\"\"\n",
    "\"range(number)\" returns an iterable of numbers\n",
    "from zero up to (but excluding) the given number\n",
    "prints:\n",
    "    0\n",
    "    1\n",
    "    2    \n",
    "\"\"\"\n",
    "for i in range(3):  # 0 to 2\n",
    "    print(i)"
   ]
  },
  {
   "cell_type": "code",
   "execution_count": 23,
   "id": "f5dc32fb-d0d3-40cf-a110-96ed362d2486",
   "metadata": {},
   "outputs": [
    {
     "name": "stdout",
     "output_type": "stream",
     "text": [
      "4\n",
      "5\n",
      "6\n",
      "7\n"
     ]
    }
   ],
   "source": [
    "\"\"\"\n",
    "\"range(lower, upper)\" returns an iterable of numbers\n",
    "from the lower number to the upper number\n",
    "prints:\n",
    "    4\n",
    "    5\n",
    "    6\n",
    "    7\n",
    "\"\"\"\n",
    "for i in range(4, 8):\n",
    "    print(i)"
   ]
  },
  {
   "cell_type": "code",
   "execution_count": 24,
   "id": "b45214ac-f665-4613-9191-529c17ad28d8",
   "metadata": {},
   "outputs": [
    {
     "name": "stdout",
     "output_type": "stream",
     "text": [
      "4\n",
      "6\n"
     ]
    }
   ],
   "source": [
    "\"\"\"\n",
    "\"range(lower, upper, step)\" returns an iterable of numbers\n",
    "from the lower number to the upper number, while incrementing\n",
    "by step. If step is not indicated, the default value is 1.\n",
    "prints:\n",
    "    4\n",
    "    6\n",
    "\"\"\"\n",
    "for i in range(4, 8, 2):\n",
    "    print(i)"
   ]
  },
  {
   "cell_type": "code",
   "execution_count": 25,
   "id": "b670f086-3a6c-48e1-844b-6212a31477f0",
   "metadata": {},
   "outputs": [
    {
     "name": "stdout",
     "output_type": "stream",
     "text": [
      "0 dog\n",
      "1 cat\n",
      "2 mouse\n"
     ]
    }
   ],
   "source": [
    "\"\"\"\n",
    "Loop over a list to retrieve both the index and the value of each list item:\n",
    "    0 dog\n",
    "    1 cat\n",
    "    2 mouse\n",
    "\"\"\"\n",
    "animals = [\"dog\", \"cat\", \"mouse\"]\n",
    "for i, value in enumerate(animals):\n",
    "    print(i, value)"
   ]
  },
  {
   "cell_type": "code",
   "execution_count": 26,
   "id": "f6f58b94-389d-4a50-9154-d84cd11050dc",
   "metadata": {},
   "outputs": [
    {
     "name": "stdout",
     "output_type": "stream",
     "text": [
      "test\n",
      "test\n"
     ]
    }
   ],
   "source": [
    "# _ in a For Loop\n",
    "# If the value your for loop is iterating through,e.g. the number in the range, or the item inthe list is not needed, you can replace it withan underscore\n",
    "for _ in range(2):\n",
    "    print ('test')"
   ]
  },
  {
   "cell_type": "markdown",
   "id": "5826552d-8d4c-4a53-ad91-096068f0dc95",
   "metadata": {},
   "source": [
    "#### While Loops\n",
    "\n",
    "While loops in Python are used to repeatedly execute a block of code as long as a specified condition remains true. \n",
    "\n",
    "The loop begins with the **while** keyword, followed by the condition to be evaluated, and a colon to indicate the start of the indented code block to be executed.\n",
    "\n",
    "If the condition is true, the code block runs, and after each execution, the condition is re-evaluated. \n",
    "\n",
    "This process continues until the condition becomes false. \n",
    "\n",
    "While loops are particularly useful when the number of iterations is not known beforehand and depends on dynamic conditions, such as reading user input until a valid response is received or performing tasks until a certain state is achieved. \n",
    "\n",
    "They provide a flexible mechanism for implementing repetitive actions that depend on changing conditions."
   ]
  },
  {
   "cell_type": "code",
   "execution_count": 106,
   "id": "ba553a41-9b83-401b-aeb5-0eeb1ec6a93f",
   "metadata": {},
   "outputs": [
    {
     "name": "stdout",
     "output_type": "stream",
     "text": [
      "While Loop:\n",
      "0\n",
      "1\n",
      "2\n",
      "3\n",
      "4\n",
      "1\n",
      "3\n",
      "5\n",
      "7\n",
      "9\n"
     ]
    }
   ],
   "source": [
    "# while loop\n",
    "# This is a loop that will keep repeating itself until the while condition becomes false\n",
    "print(\"While Loop:\")\n",
    "count = 0\n",
    "while count < 5:\n",
    "    print(count)\n",
    "    count += 1      \n",
    "        \n",
    "# Infinite Loops  \n",
    "# Sometimes, the condition you are checkingto see if the loop should continue neverbecomes false. \n",
    "# In this case, the loop willcontinue for eternity (or until your computerstops it). This is more common with whileloops.\n",
    "#while 5 > 1:\n",
    "#    print(\"I'm a survivor\")\n"
   ]
  },
  {
   "cell_type": "markdown",
   "id": "1e42aa0b-5476-4eae-84f6-af27cded841c",
   "metadata": {},
   "source": [
    "In Python, the **break** and **continue** statements are used to alter the flow of loops. \n",
    "\n",
    "- The **break** statement immediately terminates the loop, skipping any remaining iterations, and transfers control to the first statement following the loop. It's useful for exiting a loop when a specific condition is met. \n",
    "- The **continue** statement, on the other hand, skips the current iteration and moves to the next iteration of the loop. It is used to bypass certain parts of the loop when a condition is met, without terminating the loop entirely. \n",
    "\n",
    "Both statements enhance loop control, allowing for more precise and efficient loop behavior."
   ]
  },
  {
   "cell_type": "code",
   "execution_count": 21,
   "id": "ed51beee-afc4-4618-b230-60c0f286985f",
   "metadata": {},
   "outputs": [
    {
     "name": "stdout",
     "output_type": "stream",
     "text": [
      "34\n",
      "67\n",
      "99\n",
      "Invalid\n"
     ]
    }
   ],
   "source": [
    "# break\n",
    "# This keyword allows you to break free of theloop. You can use it in a for or while loop\n",
    "scores = [34, 67, 99, 105]\n",
    "for s in scores:\n",
    "    if s > 100:\n",
    "        print(\"Invalid\")\n",
    "        break\n",
    "    print(s)"
   ]
  },
  {
   "cell_type": "code",
   "execution_count": 22,
   "id": "994da146-9bb5-495b-b9e9-5f4b13919e14",
   "metadata": {},
   "outputs": [
    {
     "name": "stdout",
     "output_type": "stream",
     "text": [
      "1\n",
      "3\n",
      "5\n",
      "7\n",
      "9\n"
     ]
    }
   ],
   "source": [
    "# continue\n",
    "# This keyword allows you to skip this iterationof the loop and go to the next. The loop will still continue, but it will start from the top\n",
    "n = 0\n",
    "while n < 10:\n",
    "    n += 1\n",
    "    if n % 2 == 0:\n",
    "        continue\n",
    "    print(n)\n",
    "        #Prints all the odd numbers"
   ]
  },
  {
   "cell_type": "markdown",
   "id": "a63488a7-3613-4668-815c-2bc70a01370f",
   "metadata": {},
   "source": [
    "#### Handle exceptions with a try/except block\n",
    "\n",
    "In Python, the try, except, and finally statements are used for handling exceptions, allowing for robust error management and ensuring that resources are properly cleaned up. \n",
    "- The **try** block contains code that might raise an exception\n",
    "- The **except** block defines how to handle specific exceptions if they occur, preventing the program from crashing. Multiple except blocks can be used to handle different types of exceptions. \n",
    "- The **finally** block, which is optional, contains code that will always execute, regardless of whether an exception was raised or not, making it ideal for cleanup actions such as closing files or releasing resources. \n",
    "\n",
    "This structure ensures that critical cleanup code runs even in the presence of errors, contributing to more reliable and maintainable programs.\n"
   ]
  },
  {
   "cell_type": "code",
   "execution_count": 115,
   "id": "03290389-75b0-4b73-8d46-2d504e05667a",
   "metadata": {},
   "outputs": [
    {
     "name": "stdout",
     "output_type": "stream",
     "text": [
      "We can clean up resources here\n"
     ]
    }
   ],
   "source": [
    "try:\n",
    "    # Use \"raise\" to raise an error\n",
    "    raise IndexError(\"This is an index error\")\n",
    "except IndexError as e:\n",
    "    pass                 # Refrain from this, provide a recovery (next example).\n",
    "except (TypeError, NameError):\n",
    "    pass                 # Multiple exceptions can be processed jointly.\n",
    "else:                    # Optional clause to the try/except block. Must follow\n",
    "                         # all except blocks.\n",
    "    print(\"All good!\")   # Runs only if the code in try raises no exceptions\n",
    "finally:                 # Execute under all circumstances\n",
    "    print(\"We can clean up resources here\")"
   ]
  },
  {
   "cell_type": "markdown",
   "id": "d9dbe89a-cb22-4f48-a9d9-2142d8fc7444",
   "metadata": {
    "jp-MarkdownHeadingCollapsed": true,
    "tags": []
   },
   "source": [
    "## 4. Functions\n",
    "\n",
    "- Python functions are essential building blocks of programs, encapsulating reusable pieces of code that perform specific tasks. \n",
    "- They enable developers to organize code logically, improve readability, and promote code reuse by encapsulating functionality into named blocks. \n",
    "- Functions in Python can accept input parameters, process data, and optionally return results. \n",
    "- They can be defined using the def keyword, followed by a function name, parameters, and a code block containing the function's implementation. \n",
    "- Python functions support both positional and keyword arguments, default parameter values, variable-length argument lists, and the ability to return multiple values. \n"
   ]
  },
  {
   "cell_type": "code",
   "execution_count": 145,
   "id": "b0e4254c-b8ec-49d2-9c0c-093a46dea6ce",
   "metadata": {},
   "outputs": [
    {
     "name": "stdout",
     "output_type": "stream",
     "text": [
      "x is 5 and y is 6\n",
      "x is 5 and y is 6\n"
     ]
    },
    {
     "data": {
      "text/plain": [
       "11"
      ]
     },
     "execution_count": 145,
     "metadata": {},
     "output_type": "execute_result"
    }
   ],
   "source": [
    "# Use \"def\" to create new functions\n",
    "def add(x, y):\n",
    "    print(\"x is {} and y is {}\".format(x, y))\n",
    "    return x + y  # Return values with a return statement\n",
    "\n",
    "# Calling functions with parameters\n",
    "add(5, 6)  # => prints out \"x is 5 and y is 6\" and returns 11\n",
    "\n",
    "# Another way to call functions is with keyword arguments\n",
    "add(y=6, x=5)  # Keyword arguments can arrive in any order.\n"
   ]
  },
  {
   "cell_type": "markdown",
   "id": "cdc0b1a2-2381-48f0-9f1c-541f6d329b56",
   "metadata": {},
   "source": [
    "**Functions with default parameter value**"
   ]
  },
  {
   "cell_type": "code",
   "execution_count": 137,
   "id": "c4b709bd-cb61-4229-8e56-f9256b64787b",
   "metadata": {},
   "outputs": [
    {
     "name": "stdout",
     "output_type": "stream",
     "text": [
      "Hello, Bob\n",
      "Hello, world\n"
     ]
    }
   ],
   "source": [
    "def greet(name=\"world\"):\n",
    "    print(\"Hello,\", name)\n",
    "\n",
    "# Call the function with and without argument\n",
    "greet(\"Bob\")\n",
    "greet()"
   ]
  },
  {
   "cell_type": "markdown",
   "id": "37617c18-e659-482c-a347-cbc650b771b6",
   "metadata": {},
   "source": [
    "**Functions with variable length arguments**"
   ]
  },
  {
   "cell_type": "code",
   "execution_count": 172,
   "id": "1efdb7df-d80d-4268-8cb3-4fc16f644d87",
   "metadata": {},
   "outputs": [
    {
     "name": "stdout",
     "output_type": "stream",
     "text": [
      "sum_numbers(1, 2, 3)       : 6\n",
      "sum_numbers(1, 2, 3, 4, 5) : 15\n"
     ]
    }
   ],
   "source": [
    "# You can define functions that take a variable number of\n",
    "# positional arguments\n",
    "def sum_numbers(*args):\n",
    "    total = 0\n",
    "    for num in args:\n",
    "        total += num\n",
    "    return total\n",
    "\n",
    "# Call the function with different number of arguments\n",
    "print(f'sum_numbers(1, 2, 3)       : {sum_numbers(1, 2, 3)}')\n",
    "print(f'sum_numbers(1, 2, 3, 4, 5) : {sum_numbers(1, 2, 3, 4, 5)}')\n"
   ]
  },
  {
   "cell_type": "code",
   "execution_count": 139,
   "id": "316a0c2e-21bd-4693-97a1-ed13c52b4f32",
   "metadata": {},
   "outputs": [
    {
     "data": {
      "text/plain": [
       "{'big': 'foot', 'loch': 'ness'}"
      ]
     },
     "execution_count": 139,
     "metadata": {},
     "output_type": "execute_result"
    }
   ],
   "source": [
    "# You can define functions that take a variable number of\n",
    "# keyword arguments, as well\n",
    "def keyword_args(**kwargs):\n",
    "    return kwargs\n",
    "\n",
    "# Let's call it to see what happens\n",
    "keyword_args(big=\"foot\", loch=\"ness\")  # => {\"big\": \"foot\", \"loch\": \"ness\"}"
   ]
  },
  {
   "cell_type": "code",
   "execution_count": 175,
   "id": "5f6323f9-ed2e-41fb-8448-0bf97ed4f9e8",
   "metadata": {},
   "outputs": [
    {
     "name": "stdout",
     "output_type": "stream",
     "text": [
      "args: (1, 2, 3, 4) and kwargs: {}\n",
      "args: () and kwargs: {'a': 3, 'b': 4}\n",
      "args: (1, 2, 3, 4) and kwargs: {'a': 3, 'b': 4}\n"
     ]
    }
   ],
   "source": [
    "# You can do both at once, if you like\n",
    "def all_the_args(*args, **kwargs):\n",
    "    print(f'args: {args} and kwargs: {kwargs}')\n",
    "    \n",
    "\"\"\"\n",
    "all_the_args(1, 2, a=3, b=4) prints:\n",
    "    args: (1, 2) and kwargs {\"a\": 3, \"b\": 4}\n",
    "\"\"\"\n",
    "\n",
    "# When calling functions, you can do the opposite of args/kwargs!\n",
    "# Use * to expand args (tuples) and use ** to expand kwargs (dictionaries).\n",
    "args = (1, 2, 3, 4)\n",
    "kwargs = {\"a\": 3, \"b\": 4}\n",
    "\n",
    "\n",
    "all_the_args(*args)            # equivalent: all_the_args(1, 2, 3, 4)\n",
    "all_the_args(**kwargs)         # equivalent: all_the_args(a=3, b=4)\n",
    "all_the_args(*args, **kwargs)  # equivalent: all_the_args(1, 2, 3, 4, a=3, b=4)"
   ]
  },
  {
   "cell_type": "markdown",
   "id": "82e5f9dc-1bd2-44cd-b6e7-69783464b27e",
   "metadata": {},
   "source": [
    "**Functions returning multiple values**"
   ]
  },
  {
   "cell_type": "code",
   "execution_count": 141,
   "id": "6b78401d-dc5f-41fe-b303-14c4fa6160da",
   "metadata": {},
   "outputs": [
    {
     "name": "stdout",
     "output_type": "stream",
     "text": [
      "Addition: 7\n",
      "Multiplication: 12\n"
     ]
    }
   ],
   "source": [
    "def calculate(a, b):\n",
    "    add = a + b\n",
    "    multiply = a * b\n",
    "    return add, multiply # Return multiple values as a tuple without the parenthesis.\n",
    "                         # (Note: parenthesis have been excluded but can be included)\n",
    "\n",
    "# Call the function and unpack the returned values\n",
    "result_add, result_multiply = calculate(3, 4)\n",
    "print(\"Addition:\", result_add)\n",
    "print(\"Multiplication:\", result_multiply)\n"
   ]
  },
  {
   "cell_type": "markdown",
   "id": "1394df52-9639-42b7-b670-8ff9b3f5afcb",
   "metadata": {},
   "source": [
    "**Recursive functions**"
   ]
  },
  {
   "cell_type": "code",
   "execution_count": 133,
   "id": "b1b2d863-475f-4aae-b6f8-3063f4ee4baf",
   "metadata": {},
   "outputs": [
    {
     "name": "stdout",
     "output_type": "stream",
     "text": [
      "120\n"
     ]
    }
   ],
   "source": [
    "def factorial(n):\n",
    "    if n == 0:\n",
    "        return 1\n",
    "    else:\n",
    "        return n * factorial(n - 1)\n",
    "\n",
    "# Call the recursive function\n",
    "print(factorial(5))\n"
   ]
  },
  {
   "cell_type": "markdown",
   "id": "03ad8268-c73e-4259-bc90-76dfbddae435",
   "metadata": {},
   "source": [
    "In Python, you **cannot explicitly specify the data type that a function will return**. \n",
    "\n",
    "Python is dynamically typed, meaning variables can hold values of any type, and functions can return values of any type based on the computation within the function. \n",
    "\n",
    "However, you can indicate the expected return type using type hints as a form of documentation, although these hints are not enforced by the interpreter."
   ]
  },
  {
   "cell_type": "code",
   "execution_count": 132,
   "id": "617469db-9778-441a-9fa0-5a1db28b64b0",
   "metadata": {},
   "outputs": [
    {
     "name": "stdout",
     "output_type": "stream",
     "text": [
      "7\n"
     ]
    }
   ],
   "source": [
    "def add(a: int, b: int) -> int:\n",
    "    return a + b\n",
    "\n",
    "result = add(3, 4)\n",
    "print(result)  # Output: 7\n"
   ]
  },
  {
   "cell_type": "markdown",
   "id": "83ce4820-1573-45a2-8fc0-e5a0212f0087",
   "metadata": {},
   "source": [
    "**Accessing variables with global scope**"
   ]
  },
  {
   "cell_type": "code",
   "execution_count": 143,
   "id": "591226de-3ca7-4415-866b-65751b318da5",
   "metadata": {},
   "outputs": [
    {
     "name": "stdout",
     "output_type": "stream",
     "text": [
      "43\n",
      "5\n",
      "6\n"
     ]
    }
   ],
   "source": [
    "# global scope\n",
    "x = 5\n",
    "\n",
    "def set_x(num):\n",
    "    # local scope begins here\n",
    "    # local var x not the same as global var x\n",
    "    x = num    # => 43\n",
    "    print(x)   # => 43\n",
    "\n",
    "def set_global_x(num):\n",
    "    # global indicates that particular var lives in the global scope\n",
    "    global x\n",
    "    print(x)   # => 5\n",
    "    x = num    # global var x is now set to 6\n",
    "    print(x)   # => 6\n",
    "\n",
    "set_x(43)\n",
    "set_global_x(6)\n"
   ]
  },
  {
   "cell_type": "markdown",
   "id": "8d823502-454b-478c-8d44-b55e5d438058",
   "metadata": {},
   "source": [
    "**First class functions**\n",
    "- In Python, functions are considered first-class citizens, meaning they can be treated as objects and manipulated just like any other data type. \n",
    "- This unique characteristic allows functions to be passed as arguments to other functions, returned as values from functions, and assigned to variables. \n",
    "- First-class functions enable powerful programming paradigms such as functional programming, where functions can be used to express complex behaviors concisely and elegantly. \n",
    "- They promote modular, reusable code by facilitating higher-order functions, closures, and lambda expressions, enhancing the flexibility and expressiveness of Python programs."
   ]
  },
  {
   "cell_type": "code",
   "execution_count": 144,
   "id": "6eff9d1d-12b8-4ee9-ae33-c87dfb5f6957",
   "metadata": {},
   "outputs": [
    {
     "data": {
      "text/plain": [
       "13"
      ]
     },
     "execution_count": 144,
     "metadata": {},
     "output_type": "execute_result"
    }
   ],
   "source": [
    "# Python has first class functions\n",
    "def create_adder(x):\n",
    "    def adder(y):\n",
    "        return x + y\n",
    "    return adder\n",
    "\n",
    "add_10 = create_adder(10)\n",
    "add_10(3)   # => 13"
   ]
  },
  {
   "cell_type": "markdown",
   "id": "7fb19bfb-dc50-424a-ab67-2b7af2a56fd4",
   "metadata": {},
   "source": [
    "**Anonymous functions**\n",
    "\n",
    "Also known as **lambda functions** in Python, are compact, inline functions that can be defined without a formal name. \n",
    "\n",
    "- They are created using the lambda keyword, followed by parameters and an expression. \n",
    "- Lambda functions are typically used for short, simple operations where defining a separate named function would be overkill. \n",
    "- They are particularly useful in scenarios where functions are passed as arguments to higher-order functions or used in situations requiring a small, throwaway function. \n",
    "- Lambda functions are concise and can improve code readability by reducing the need for auxiliary functions, especially in cases where the logic is straightforward and doesn't require a separate named function. \n",
    "- However, their use should be judicious to maintain code clarity and understandability."
   ]
  },
  {
   "cell_type": "code",
   "execution_count": 150,
   "id": "04f4ab12-e3e9-477c-a978-2e7550d5c81f",
   "metadata": {},
   "outputs": [
    {
     "data": {
      "text/plain": [
       "True"
      ]
     },
     "execution_count": 150,
     "metadata": {},
     "output_type": "execute_result"
    }
   ],
   "source": [
    "# There are also anonymous functions\n",
    "(lambda x: x > 2)(3)                  # => True"
   ]
  },
  {
   "cell_type": "code",
   "execution_count": 149,
   "id": "be8be996-9966-4cf3-80a2-ed1a276dae6c",
   "metadata": {},
   "outputs": [
    {
     "data": {
      "text/plain": [
       "True"
      ]
     },
     "execution_count": 149,
     "metadata": {},
     "output_type": "execute_result"
    }
   ],
   "source": [
    "def great_than_2(x):\n",
    "    return x>2\n",
    "\n",
    "great_than_2(3)"
   ]
  },
  {
   "cell_type": "code",
   "execution_count": 152,
   "id": "22d45043-8fbc-4a53-a862-96eb6e1d2e87",
   "metadata": {},
   "outputs": [
    {
     "data": {
      "text/plain": [
       "5"
      ]
     },
     "execution_count": 152,
     "metadata": {},
     "output_type": "execute_result"
    }
   ],
   "source": [
    "# 2**2 + 1**2 => 5\n",
    "(lambda x, y: x ** 2 + y ** 2)(2, 1)  # => 5"
   ]
  },
  {
   "cell_type": "code",
   "execution_count": 153,
   "id": "b21268ff-40c7-494a-ade9-f9af15353a98",
   "metadata": {},
   "outputs": [
    {
     "data": {
      "text/plain": [
       "[11, 12, 13]"
      ]
     },
     "execution_count": 153,
     "metadata": {},
     "output_type": "execute_result"
    }
   ],
   "source": [
    "# There are built-in higher order functions\n",
    "list(map(add_10, [1, 2, 3]))          # => [11, 12, 13]\n"
   ]
  },
  {
   "cell_type": "code",
   "execution_count": 154,
   "id": "e129479e-30ca-4bae-aaaa-57e079d84640",
   "metadata": {},
   "outputs": [
    {
     "data": {
      "text/plain": [
       "[4, 2, 3]"
      ]
     },
     "execution_count": 154,
     "metadata": {},
     "output_type": "execute_result"
    }
   ],
   "source": [
    "list(map(max, [1, 2, 3], [4, 2, 1]))  # => [4, 2, 3]\n"
   ]
  },
  {
   "cell_type": "code",
   "execution_count": 155,
   "id": "0616d2c3-0ea7-49c4-87fb-f2ae470b77c8",
   "metadata": {},
   "outputs": [
    {
     "data": {
      "text/plain": [
       "[6, 7]"
      ]
     },
     "execution_count": 155,
     "metadata": {},
     "output_type": "execute_result"
    }
   ],
   "source": [
    "list(filter(lambda x: x > 5, [3, 4, 5, 6, 7]))  # => [6, 7]"
   ]
  },
  {
   "cell_type": "code",
   "execution_count": 158,
   "id": "b9ac4296-0673-44f8-8617-bf17bbdb00e6",
   "metadata": {},
   "outputs": [
    {
     "data": {
      "text/plain": [
       "[11, 12, 13]"
      ]
     },
     "execution_count": 158,
     "metadata": {},
     "output_type": "execute_result"
    }
   ],
   "source": [
    "# We can use list comprehensions for nice maps and filters\n",
    "# List comprehension stores the output as a list (which itself may be nested).\n",
    "[add_10(i) for i in [1, 2, 3]]         # => [11, 12, 13]"
   ]
  },
  {
   "cell_type": "code",
   "execution_count": 157,
   "id": "ded91e2e-f8f8-44d4-8736-90a96286566d",
   "metadata": {},
   "outputs": [
    {
     "data": {
      "text/plain": [
       "[6, 7]"
      ]
     },
     "execution_count": 157,
     "metadata": {},
     "output_type": "execute_result"
    }
   ],
   "source": [
    "[x for x in [3, 4, 5, 6, 7] if x > 5]  # => [6, 7]"
   ]
  },
  {
   "cell_type": "code",
   "execution_count": 159,
   "id": "9c4fe0f1-5060-4647-8432-de876e9ac711",
   "metadata": {},
   "outputs": [
    {
     "data": {
      "text/plain": [
       "{'d', 'e', 'f'}"
      ]
     },
     "execution_count": 159,
     "metadata": {},
     "output_type": "execute_result"
    }
   ],
   "source": [
    "# You can construct set and dict comprehensions as well.\n",
    "{x for x in 'abcddeef' if x not in 'abc'}  # => {'d', 'e', 'f'}"
   ]
  },
  {
   "cell_type": "code",
   "execution_count": 160,
   "id": "a1174220-6d31-4a44-95d8-37108a2eaba2",
   "metadata": {},
   "outputs": [
    {
     "data": {
      "text/plain": [
       "{0: 0, 1: 1, 2: 4, 3: 9, 4: 16}"
      ]
     },
     "execution_count": 160,
     "metadata": {},
     "output_type": "execute_result"
    }
   ],
   "source": [
    "{x: x**2 for x in range(5)}  # => {0: 0, 1: 1, 2: 4, 3: 9, 4: 16}"
   ]
  },
  {
   "cell_type": "markdown",
   "id": "51825812-8dff-4a98-a588-1db1eff2bd2f",
   "metadata": {
    "jp-MarkdownHeadingCollapsed": true,
    "tags": []
   },
   "source": [
    "## 5. Importing Modules and Packages\n",
    "\n",
    "\n"
   ]
  },
  {
   "cell_type": "markdown",
   "id": "cfe9cd0e-540a-42ad-a4bd-698f8cfcde95",
   "metadata": {},
   "source": [
    "### Modules\n",
    "\n",
    "- A module is a single Python file that can contain variables, functions, classes, and executable code.\n",
    "- This modular structure promotes code reuse, collaboration, and scalability, contributing to the versatility and efficiency of Python programming.\n",
    "- Modules allow developers to break down large programs into smaller, manageable pieces, making it easier to understand and maintain the codebase. \n",
    "- Python's extensive standard library consists of numerous modules covering a wide range of functionalities, from file I/O and math operations to network programming and web development. \n",
    "- Additionally, developers can create their own modules by simply writing Python code in a separate file and then importing it into other Python scripts using the import statement. \n",
    "- You can import a module using the import statement, allowing you to reuse the code within it. Example: If you have a file named math_utils.py, you can use it as a module \n",
    ">     import math_utils\n"
   ]
  },
  {
   "cell_type": "code",
   "execution_count": 164,
   "id": "b869297e-0b2e-4a75-ba7b-63031988901b",
   "metadata": {},
   "outputs": [
    {
     "name": "stdout",
     "output_type": "stream",
     "text": [
      "Square Root of 16: 4.0\n"
     ]
    }
   ],
   "source": [
    "# You can import modules\n",
    "import math\n",
    "\n",
    "# Using a function from the math module\n",
    "sqrt_value = math.sqrt(16)\n",
    "print(\"Square Root of 16:\", sqrt_value)"
   ]
  },
  {
   "cell_type": "code",
   "execution_count": 161,
   "id": "217cdaa7-a38f-4081-bd60-a120a764f269",
   "metadata": {},
   "outputs": [
    {
     "name": "stdout",
     "output_type": "stream",
     "text": [
      "4\n",
      "3\n"
     ]
    }
   ],
   "source": [
    "# You can get specific functions from a module\n",
    "from math import ceil, floor\n",
    "print(ceil(3.7))   # => 4\n",
    "print(floor(3.7))  # => 3"
   ]
  },
  {
   "cell_type": "code",
   "execution_count": 162,
   "id": "f8756e65-808c-4182-9891-86bc8dac407a",
   "metadata": {},
   "outputs": [],
   "source": [
    "# You can import all functions from a module.\n",
    "# Warning: this is not recommended\n",
    "from math import *"
   ]
  },
  {
   "cell_type": "code",
   "execution_count": 163,
   "id": "10f26b0b-2d89-443c-a5ff-229767dc367d",
   "metadata": {},
   "outputs": [
    {
     "data": {
      "text/plain": [
       "True"
      ]
     },
     "execution_count": 163,
     "metadata": {},
     "output_type": "execute_result"
    }
   ],
   "source": [
    "# You can shorten module names\n",
    "import math as m\n",
    "math.sqrt(16) == m.sqrt(16)  # => True"
   ]
  },
  {
   "cell_type": "markdown",
   "id": "11114e3e-ec8b-4886-9a0f-a4af73937d53",
   "metadata": {},
   "source": [
    "Python modules are just ordinary Python files. You can write your own, and import them. The name of the module is the same as the name of the file.\n",
    "You can find out which functions and attributes are defined in a module.\n",
    ">     import math\n",
    ">     dir(math)\n",
    "\n",
    "If you have a Python script named math.py in the same folder as your current script, the file math.py will be loaded instead of the built-in Python module.\n",
    "This happens because the local folder has priority over Python's built-in libraries."
   ]
  },
  {
   "cell_type": "code",
   "execution_count": 176,
   "id": "8810200f-f578-46c6-b318-2c2f53ac61c3",
   "metadata": {},
   "outputs": [
    {
     "data": {
      "text/plain": [
       "['__doc__',\n",
       " '__file__',\n",
       " '__loader__',\n",
       " '__name__',\n",
       " '__package__',\n",
       " '__spec__',\n",
       " 'acos',\n",
       " 'acosh',\n",
       " 'asin',\n",
       " 'asinh',\n",
       " 'atan',\n",
       " 'atan2',\n",
       " 'atanh',\n",
       " 'ceil',\n",
       " 'comb',\n",
       " 'copysign',\n",
       " 'cos',\n",
       " 'cosh',\n",
       " 'degrees',\n",
       " 'dist',\n",
       " 'e',\n",
       " 'erf',\n",
       " 'erfc',\n",
       " 'exp',\n",
       " 'expm1',\n",
       " 'fabs',\n",
       " 'factorial',\n",
       " 'floor',\n",
       " 'fmod',\n",
       " 'frexp',\n",
       " 'fsum',\n",
       " 'gamma',\n",
       " 'gcd',\n",
       " 'hypot',\n",
       " 'inf',\n",
       " 'isclose',\n",
       " 'isfinite',\n",
       " 'isinf',\n",
       " 'isnan',\n",
       " 'isqrt',\n",
       " 'lcm',\n",
       " 'ldexp',\n",
       " 'lgamma',\n",
       " 'log',\n",
       " 'log10',\n",
       " 'log1p',\n",
       " 'log2',\n",
       " 'modf',\n",
       " 'nan',\n",
       " 'nextafter',\n",
       " 'perm',\n",
       " 'pi',\n",
       " 'pow',\n",
       " 'prod',\n",
       " 'radians',\n",
       " 'remainder',\n",
       " 'sin',\n",
       " 'sinh',\n",
       " 'sqrt',\n",
       " 'tan',\n",
       " 'tanh',\n",
       " 'tau',\n",
       " 'trunc',\n",
       " 'ulp']"
      ]
     },
     "execution_count": 176,
     "metadata": {},
     "output_type": "execute_result"
    }
   ],
   "source": [
    "import math\n",
    "dir(math)"
   ]
  },
  {
   "cell_type": "markdown",
   "id": "4efaffd6-c74f-4cd2-8c21-5ef6a6b77906",
   "metadata": {},
   "source": [
    "### Packages\n",
    "- A package is a collection of related modules organized in a directory hierarchy.\n",
    "- A package contains a special __init__.py file, which indicates to Python that the directory should be treated as a package.\n",
    "- Packages enable a more organized and hierarchical structuring of your code, especially useful for large projects with many modules.\n",
    "- Example: If you have a directory structure like this\n",
    ">     my_package/\n",
    ">        __init__.py\n",
    ">        module1.py\n",
    ">        module2.py\n",
    "\n",
    "You can import modules from the package like this:\n",
    ">     from my_package import module1"
   ]
  },
  {
   "cell_type": "markdown",
   "id": "5445c76c-0d77-471a-8aa5-115e0e0ba249",
   "metadata": {},
   "source": [
    "#### Safe packages\n",
    "\n",
    "**How to know when a python package can be used?**\n",
    "\n",
    "- Being able to find it in Python Package Index (PyPI) is a good indicator that the package is legit. https://pypi.org/\n",
    "- Check dependencies in https://libraries.io/\n",
    "- Does the package support the Python version that you’re working with?\n",
    "- How popular is the package?\n",
    "- Is the package’s codebase well maintained?\n",
    "- Do other packages rely on the package?\n",
    "- Does the package’s license fit your needs?\n",
    "- What’s the exact pip install command for the package?"
   ]
  },
  {
   "cell_type": "markdown",
   "id": "6cb314d0-59e6-426c-a612-77adc56ff47f",
   "metadata": {},
   "source": [
    "Even when you follow the good practice of working with a virtual environment, Python packages can access other parts of your operating system outside your project’s folder.\n",
    "\n",
    "Evildoers may upload packages where they’ve switched two letters or replaced one with a neighboring letter on the keyboard. This imitation technique is known as **typosquatting**. Some packages can be considered malware and shouldn’t find their way onto your system.\n"
   ]
  },
  {
   "cell_type": "markdown",
   "id": "14534fb1-24b6-4153-8089-a6ebf56a0720",
   "metadata": {
    "jp-MarkdownHeadingCollapsed": true,
    "tags": []
   },
   "source": [
    "## 6. Classes\n",
    "\n",
    "In Python, classes serve as blueprints for creating objects, allowing for the encapsulation of data and behavior into a single entity. \n",
    "\n",
    "They provide a way to structure code by defining attributes (data) and methods (functions) that operate on those attributes. \n",
    "\n",
    "Classes support inheritance, enabling the creation of hierarchies where subclasses can inherit and extend the functionality of their parent classes. \n",
    "\n",
    "Through the use of classes and objects, developers can implement object-oriented programming (OOP) principles such as encapsulation, inheritance, and polymorphism, promoting code organization, modularity, and reusability. \n",
    "\n",
    "Classes facilitate the creation of complex systems by abstracting real-world entities into manageable and understandable components, fostering a structured and intuitive approach to software design and development in Python."
   ]
  },
  {
   "cell_type": "code",
   "execution_count": 4,
   "id": "ef453c9d-08c7-40a4-b408-490b76520f22",
   "metadata": {},
   "outputs": [],
   "source": [
    "# You create a class using the class keyword.\n",
    "# Note, class names in Python are PascalCased\n",
    "class Car:\n",
    "    #define class\n",
    "    pass"
   ]
  },
  {
   "cell_type": "code",
   "execution_count": 6,
   "id": "6ef8f97a-7fb7-4191-acd7-49c054c6d376",
   "metadata": {},
   "outputs": [],
   "source": [
    "# Creating an Object from a Class\n",
    "# You can create a new instance of an objectby using the class name + ()\n",
    "my_toyota = Car()"
   ]
  },
  {
   "cell_type": "code",
   "execution_count": 7,
   "id": "3ba63fb6-14c7-4c47-829b-16a1f7d37a8d",
   "metadata": {},
   "outputs": [
    {
     "name": "stdout",
     "output_type": "stream",
     "text": [
      "move\n"
     ]
    }
   ],
   "source": [
    "# Class methods\n",
    "# You can create a function that belongsto a class, this is known as a method\n",
    "class Car:\n",
    "    def drive(self):\n",
    "        print(\"move\")\n",
    "my_honda = Car()\n",
    "my_honda.drive()"
   ]
  },
  {
   "cell_type": "code",
   "execution_count": 8,
   "id": "cea2d589-7fd6-420e-b372-4747cc84b7ce",
   "metadata": {},
   "outputs": [
    {
     "name": "stdout",
     "output_type": "stream",
     "text": [
      "black\n"
     ]
    }
   ],
   "source": [
    "# Class Variables\n",
    "# You can create a varaiable in a class.The value of the variable will be availableto all objects created from the class\n",
    "class Car:\n",
    "    colour = \"black\"\n",
    "car1 = Car()\n",
    "print(car1.colour) #black"
   ]
  },
  {
   "cell_type": "code",
   "execution_count": 9,
   "id": "5476d6e8-21e1-4626-8696-4c532f0d2cde",
   "metadata": {},
   "outputs": [
    {
     "name": "stdout",
     "output_type": "stream",
     "text": [
      "Building car\n"
     ]
    }
   ],
   "source": [
    "# The __init__ method\n",
    "# The init method is called every time a newobject is created from the class\n",
    "class Car:\n",
    "    def __init__(self):\n",
    "        print(\"Building car\")\n",
    "my_toyota = Car() #You will see \"building car\" printed."
   ]
  },
  {
   "cell_type": "code",
   "execution_count": 10,
   "id": "88fedd03-f4d1-4a7b-97f1-0613be2bab62",
   "metadata": {},
   "outputs": [],
   "source": [
    "# Class Properties \n",
    "# You can create a variable in the init() ofa class so that all objects created from theclass has access to that variable.\n",
    "class Car:\n",
    "    def __init__(self, name):\n",
    "        self.name = \"Jimmy\""
   ]
  },
  {
   "cell_type": "code",
   "execution_count": 12,
   "id": "5c47e963-240d-402e-a3fe-8fdc2ebfe853",
   "metadata": {},
   "outputs": [
    {
     "name": "stdout",
     "output_type": "stream",
     "text": [
      "breathing\n",
      "underwater\n"
     ]
    }
   ],
   "source": [
    "# Class Inheritance\n",
    "# When you create a new class, you caninherit the methods and propertiesof another class\n",
    "class Animal:\n",
    "    def breathe(self):\n",
    "        print(\"breathing\")\n",
    "class Fish(Animal):\n",
    "    def breathe(self):\n",
    "        super().breathe()\n",
    "        print(\"underwater\")\n",
    "nemo = Fish()\n",
    "nemo.breathe()#Result: breathing underwater"
   ]
  },
  {
   "cell_type": "code",
   "execution_count": 19,
   "id": "b8b03e19-4193-4607-839b-c40c3ac3780d",
   "metadata": {},
   "outputs": [],
   "source": [
    "# We use the \"class\" statement to create a class\n",
    "class Human:\n",
    "\n",
    "    # A class attribute. It is shared by all instances of this class\n",
    "    species = \"H. sapiens\"\n",
    "\n",
    "    # Basic initializer, this is called when this class is instantiated.\n",
    "    # Note that the double leading and trailing underscores denote objects\n",
    "    # or attributes that are used by Python but that live in user-controlled\n",
    "    # namespaces. Methods(or objects or attributes) like: __init__, __str__,\n",
    "    # __repr__ etc. are called special methods (or sometimes called dunder\n",
    "    # methods). You should not invent such names on your own.\n",
    "    def __init__(self, name):\n",
    "        # Assign the argument to the instance's name attribute\n",
    "        self.name = name\n",
    "\n",
    "        # Initialize property\n",
    "        self._age = 0   # the leading underscore indicates the \"age\" property is \n",
    "                        # intended to be used internally\n",
    "                        # do not rely on this to be enforced: it's a hint to other devs\n",
    "\n",
    "    # An instance method. All methods take \"self\" as the first argument\n",
    "    def say(self, msg):\n",
    "        print(\"{name}: {message}\".format(name=self.name, message=msg))\n",
    "\n",
    "    # Another instance method\n",
    "    def sing(self):\n",
    "        return 'yo... yo... microphone check... one two... one two...'\n",
    "\n",
    "    # A class method is shared among all instances\n",
    "    # They are called with the calling class as the first argument\n",
    "    @classmethod\n",
    "    def get_species(cls):\n",
    "        return cls.species\n",
    "\n",
    "    # A static method is called without a class or instance reference\n",
    "    @staticmethod\n",
    "    def grunt():\n",
    "        return \"*grunt*\"\n",
    "\n",
    "    # A property is just like a getter.\n",
    "    # It turns the method age() into a read-only attribute of the same name.\n",
    "    # There's no need to write trivial getters and setters in Python, though.\n",
    "    @property\n",
    "    def age(self):\n",
    "        return self._age\n",
    "\n",
    "    # This allows the property to be set\n",
    "    @age.setter\n",
    "    def age(self, age):\n",
    "        self._age = age\n",
    "\n",
    "    # This allows the property to be deleted\n",
    "    @age.deleter\n",
    "    def age(self):\n",
    "        del self._age\n",
    "\n",
    "\n",
    "\n"
   ]
  },
  {
   "cell_type": "code",
   "execution_count": 20,
   "id": "86c4248a-771e-474b-928b-e786f41c0b7c",
   "metadata": {},
   "outputs": [
    {
     "name": "stdout",
     "output_type": "stream",
     "text": [
      "Ian: hi\n",
      "Joel: hello\n",
      "Ian: H. sapiens\n",
      "Ian: H. neanderthalensis\n",
      "Joel: H. neanderthalensis\n",
      "*grunt*\n",
      "*grunt*\n",
      "Ian: 42\n",
      "Joel: 0\n"
     ]
    }
   ],
   "source": [
    "# When a Python interpreter reads a source file it executes all its code.\n",
    "# This __name__ check makes sure this code block is only executed when this\n",
    "# module is the main program.\n",
    "if __name__ == '__main__':\n",
    "    # Instantiate a class\n",
    "    i = Human(name=\"Ian\")\n",
    "    i.say(\"hi\")                     # \"Ian: hi\"\n",
    "    j = Human(\"Joel\")\n",
    "    j.say(\"hello\")                  # \"Joel: hello\"\n",
    "    # i and j are instances of type Human; i.e., they are Human objects.\n",
    "\n",
    "    # Call our class method\n",
    "    i.say(i.get_species())          # \"Ian: H. sapiens\"\n",
    "    # Change the shared attribute\n",
    "    Human.species = \"H. neanderthalensis\"\n",
    "    i.say(i.get_species())          # => \"Ian: H. neanderthalensis\"\n",
    "    j.say(j.get_species())          # => \"Joel: H. neanderthalensis\"\n",
    "\n",
    "    # Call the static method\n",
    "    print(Human.grunt())            # => \"*grunt*\"\n",
    "\n",
    "    # Static methods can be called by instances too\n",
    "    print(i.grunt())                # => \"*grunt*\"\n",
    "\n",
    "    # Update the property for this instance\n",
    "    i.age = 42\n",
    "    # Get the property\n",
    "    i.say(i.age)                    # => \"Ian: 42\"\n",
    "    j.say(j.age)                    # => \"Joel: 0\"\n",
    "    # Delete the property\n",
    "    del i.age\n",
    "    # i.age                         # => this would raise an AttributeError"
   ]
  },
  {
   "cell_type": "markdown",
   "id": "189eedd4-995c-47eb-b1d6-5dd5a8384439",
   "metadata": {
    "jp-MarkdownHeadingCollapsed": true,
    "tags": []
   },
   "source": [
    "## 7. File Operations"
   ]
  },
  {
   "cell_type": "markdown",
   "id": "871643a7-c2d1-4ed4-91c0-1e97fd1b3263",
   "metadata": {
    "tags": []
   },
   "source": [
    "#### With statement\n",
    "- The with statement in Python is used for resource management, ensuring that resources are properly acquired and released. \n",
    "- It is commonly used with file operations and other contexts that require setup and cleanup actions, such as opening files, acquiring locks, or connecting to databases. \n",
    "- When used with a context manager, the with statement simplifies exception handling by automatically handling resource release, even if an error occurs within the block. \n",
    "- This leads to cleaner, more readable code and helps prevent resource leaks by ensuring that resources are consistently and safely managed. \n",
    "- The syntax involves the with keyword, followed by the context manager, and an indented block of code where the resource is used."
   ]
  },
  {
   "cell_type": "code",
   "execution_count": 119,
   "id": "dcd5a69e-c693-4ca5-b470-4d9bbc3c8612",
   "metadata": {},
   "outputs": [],
   "source": [
    "# Writing to a file\n",
    "with open(\"example.txt\", \"w\") as file:\n",
    "    file.write(\"Hello, this is a test file.\")"
   ]
  },
  {
   "cell_type": "code",
   "execution_count": 121,
   "id": "31bd7483-693b-4cf6-97b0-488eeb851b64",
   "metadata": {},
   "outputs": [
    {
     "name": "stdout",
     "output_type": "stream",
     "text": [
      "Hello, this is a test file.\n"
     ]
    }
   ],
   "source": [
    "# Instead of try/finally to cleanup resources you can use a with statement\n",
    "with open(\"example.txt\") as file:\n",
    "    for line in file:\n",
    "        print(line)"
   ]
  },
  {
   "cell_type": "code",
   "execution_count": 120,
   "id": "73b699e7-73fe-4d44-bae0-c027890c1e7c",
   "metadata": {},
   "outputs": [
    {
     "name": "stdout",
     "output_type": "stream",
     "text": [
      "File Content: Hello, this is a test file.\n"
     ]
    }
   ],
   "source": [
    "# Reading from a file\n",
    "with open(\"example.txt\", \"r\") as file:\n",
    "    content = file.read()\n",
    "    print(\"File Content:\", content)\n"
   ]
  },
  {
   "cell_type": "code",
   "execution_count": 179,
   "id": "4471f5d6-a6e8-438e-9be6-e64c1222a408",
   "metadata": {},
   "outputs": [],
   "source": [
    "# Generators help you make lazy code.\n",
    "def double_numbers(iterable):\n",
    "    for i in iterable:\n",
    "        yield i + i\n"
   ]
  },
  {
   "cell_type": "code",
   "execution_count": 180,
   "id": "c37d8766-37a5-4365-b5a4-d65fa7758b6a",
   "metadata": {},
   "outputs": [
    {
     "name": "stdout",
     "output_type": "stream",
     "text": [
      "2\n",
      "4\n",
      "6\n",
      "8\n",
      "10\n",
      "12\n",
      "14\n",
      "16\n",
      "18\n",
      "20\n",
      "22\n",
      "24\n",
      "26\n",
      "28\n",
      "30\n"
     ]
    }
   ],
   "source": [
    "# Generators are memory-efficient because they only load the data needed to\n",
    "# process the next value in the iterable. This allows them to perform\n",
    "# operations on otherwise prohibitively large value ranges.\n",
    "# NOTE: `range` replaces `xrange` in Python 3.\n",
    "for i in double_numbers(range(1, 900000000)):  # `range` is a generator.\n",
    "    print(i)\n",
    "    if i >= 30:\n",
    "        break"
   ]
  },
  {
   "cell_type": "code",
   "execution_count": 181,
   "id": "863c66a6-7c34-4956-a6d0-3b2181aa3197",
   "metadata": {},
   "outputs": [
    {
     "name": "stdout",
     "output_type": "stream",
     "text": [
      "-1\n",
      "-2\n",
      "-3\n",
      "-4\n",
      "-5\n"
     ]
    }
   ],
   "source": [
    "# Just as you can create a list comprehension, you can create generator comprehensions as well.\n",
    "values = (-x for x in [1,2,3,4,5])\n",
    "for x in values:\n",
    "    print(x)  # prints -1 -2 -3 -4 -5 to console/terminal"
   ]
  },
  {
   "cell_type": "code",
   "execution_count": 182,
   "id": "ac285eb3-4d21-49d7-974e-18a83daa844c",
   "metadata": {},
   "outputs": [
    {
     "name": "stdout",
     "output_type": "stream",
     "text": [
      "[-1, -2, -3, -4, -5]\n"
     ]
    }
   ],
   "source": [
    "# You can also cast a generator comprehension directly to a list.\n",
    "values = (-x for x in [1,2,3,4,5])\n",
    "gen_to_list = list(values)\n",
    "print(gen_to_list)  # => [-1, -2, -3, -4, -5]"
   ]
  },
  {
   "cell_type": "code",
   "execution_count": 186,
   "id": "10e75b2b-4b51-4c7a-b3a1-607af8d08ce5",
   "metadata": {},
   "outputs": [
    {
     "name": "stdout",
     "output_type": "stream",
     "text": [
      "Entering function my_function\n",
      "3\n",
      "Exiting function my_function\n"
     ]
    },
    {
     "data": {
      "text/plain": [
       "3"
      ]
     },
     "execution_count": 186,
     "metadata": {},
     "output_type": "execute_result"
    }
   ],
   "source": [
    "# Decorators are a form of syntactic sugar.\n",
    "# They make code easier to read while accomplishing clunky syntax.\n",
    "\n",
    "# Wrappers are one type of decorator.\n",
    "# They're really useful for adding logging to existing functions without needing to modify them.\n",
    "\n",
    "def log_function(func):\n",
    "    def wrapper(*args, **kwargs):\n",
    "        print(\"Entering function\", func.__name__)\n",
    "        result = func(*args, **kwargs)\n",
    "        print(result)\n",
    "        print(\"Exiting function\", func.__name__)\n",
    "        return result\n",
    "    return wrapper\n",
    "\n",
    "@log_function               # equivalent:\n",
    "def my_function(x,y):       # def my_function(x,y):\n",
    "    return x+y              #   return x+y\n",
    "                            # my_function = log_function(my_function)\n",
    "# The decorator @log_function tells us as we begin reading the function definition\n",
    "# for my_function that this function will be wrapped with log_function.\n",
    "# When function definitions are long, it can be hard to parse the non-decorated\n",
    "# assignment at the end of the definition.\n",
    "\n",
    "my_function(1,2) # => \"Entering function my_function\"\n",
    "                 # => \"3\"\n",
    "                 # => \"Exiting function my_function\""
   ]
  },
  {
   "cell_type": "code",
   "execution_count": 187,
   "id": "d5158393-f023-4c21-a767-43253acbc4fe",
   "metadata": {},
   "outputs": [
    {
     "name": "stdout",
     "output_type": "stream",
     "text": [
      "wrapper\n",
      "0\n"
     ]
    }
   ],
   "source": [
    "\n",
    "# But there's a problem.\n",
    "# What happens if we try to get some information about my_function?\n",
    "\n",
    "print(my_function.__name__) # => 'wrapper'\n",
    "print(my_function.__code__.co_argcount) # => 0. The argcount is 0 because both arguments in wrapper()'s signature are optional."
   ]
  },
  {
   "cell_type": "code",
   "execution_count": 18,
   "id": "3984fd44-f09b-42ab-b0ad-04052a49d8d6",
   "metadata": {},
   "outputs": [
    {
     "name": "stdout",
     "output_type": "stream",
     "text": [
      "2\n",
      "4\n",
      "6\n",
      "8\n",
      "10\n",
      "12\n",
      "14\n",
      "16\n",
      "18\n",
      "20\n",
      "22\n",
      "24\n",
      "26\n",
      "28\n",
      "30\n",
      "-1\n",
      "-2\n",
      "-3\n",
      "-4\n",
      "-5\n",
      "[-1, -2, -3, -4, -5]\n",
      "Entering function my_function\n",
      "Exiting function my_function\n",
      "wrapper\n",
      "0\n",
      "Entering function my_function\n",
      "Exiting function my_function\n",
      "my_function\n",
      "0\n"
     ]
    }
   ],
   "source": [
    "\n",
    "\n",
    "# Because our decorator is equivalent to my_function = log_function(my_function)\n",
    "# we've replaced information about my_function with information from wrapper\n",
    "\n",
    "# Fix this using functools\n",
    "\n",
    "from functools import wraps\n",
    "\n",
    "def log_function(func):\n",
    "    @wraps(func) # this ensures docstring, function name, arguments list, etc. are all copied\n",
    "                 # to the wrapped function - instead of being replaced with wrapper's info\n",
    "    def wrapper(*args, **kwargs):\n",
    "        print(\"Entering function\", func.__name__)\n",
    "        result = func(*args, **kwargs)\n",
    "        print(\"Exiting function\", func.__name__)\n",
    "        return result\n",
    "    return wrapper\n",
    "\n",
    "@log_function               \n",
    "def my_function(x,y):       \n",
    "    return x+y              \n",
    "                            \n",
    "my_function(1,2) # => \"Entering function my_function\"\n",
    "                 # => \"3\"\n",
    "                 # => \"Exiting function my_function\"\n",
    "\n",
    "print(my_function.__name__) # => 'my_function'\n",
    "print(my_function.__code__.co_argcount) # => 2"
   ]
  },
  {
   "cell_type": "markdown",
   "id": "31c97c67-5be9-418d-bc93-00636c4867fb",
   "metadata": {
    "tags": []
   },
   "source": [
    "## 8. Pandas\n",
    "Pandas is a powerful and widely-used open-source data manipulation and analysis library in Python. \n",
    "\n",
    "It provides data structures and functions needed to manipulate structured data seamlessly, making it an essential tool for data science, machine learning, and data analysis tasks. \n",
    "\n",
    "Here's an introduction to get you started with pandas in Python.\n"
   ]
  },
  {
   "cell_type": "markdown",
   "id": "73d96c9d-493d-489e-a0b7-8f6aeefab69b",
   "metadata": {},
   "source": [
    "### Installation\n",
    "To install pandas, you can use pip:\n",
    "\n",
    ">     pip install pandas\n",
    "\n",
    "\n"
   ]
  },
  {
   "cell_type": "markdown",
   "id": "3b93b32d-40ce-463c-bc92-aeb850d24ea0",
   "metadata": {},
   "source": [
    "### Basic Data Structures\n",
    "Pandas primarily uses two data structures: Series and DataFrame.\n",
    "\n"
   ]
  },
  {
   "cell_type": "markdown",
   "id": "6bd46d56-4f3e-4d02-a75c-1cccba438d63",
   "metadata": {},
   "source": [
    "#### Series\n",
    "A Series is a one-dimensional labeled array capable of holding any data type (integers, strings, floating point numbers, Python objects, etc.). \n",
    "The labels are referred to as the index."
   ]
  },
  {
   "cell_type": "code",
   "execution_count": 188,
   "id": "61de7274-2ef8-472d-8936-38d38482c1ee",
   "metadata": {},
   "outputs": [
    {
     "name": "stdout",
     "output_type": "stream",
     "text": [
      "0    1\n",
      "1    2\n",
      "2    3\n",
      "3    4\n",
      "4    5\n",
      "dtype: int64\n"
     ]
    }
   ],
   "source": [
    "import pandas as pd\n",
    "\n",
    "# Creating a Series\n",
    "data = [1, 2, 3, 4, 5]\n",
    "s = pd.Series(data)\n",
    "\n",
    "print(s)"
   ]
  },
  {
   "cell_type": "markdown",
   "id": "a57a2857-d495-442d-b400-ae2ecc5e50ca",
   "metadata": {},
   "source": [
    "#### DataFrame\n",
    "A DataFrame is a two-dimensional labeled data structure with columns of potentially different types. \n",
    "\n",
    "It is similar to a table in a database or an Excel spreadsheet."
   ]
  },
  {
   "cell_type": "code",
   "execution_count": 190,
   "id": "083d1a0b-7609-4718-bc62-4564dd7566e6",
   "metadata": {},
   "outputs": [
    {
     "name": "stdout",
     "output_type": "stream",
     "text": [
      "      Name  Age         City\n",
      "0    Alice   25     New York\n",
      "1      Bob   30  Los Angeles\n",
      "2  Charlie   35      Chicago\n"
     ]
    }
   ],
   "source": [
    "# Creating a DataFrame\n",
    "data = {\n",
    "    'Name': ['Alice', 'Bob', 'Charlie'],\n",
    "    'Age': [25, 30, 35],\n",
    "    'City': ['New York', 'Los Angeles', 'Chicago']\n",
    "}\n",
    "\n",
    "df = pd.DataFrame(data)\n",
    "\n",
    "print(df)\n"
   ]
  },
  {
   "cell_type": "markdown",
   "id": "f305eb0b-3c6f-44e1-a8f8-cd1ca984b732",
   "metadata": {},
   "source": [
    "### Reading Data\n",
    "\n",
    "Pandas supports reading data from various file formats, including CSV, Excel, JSON, SQL databases, and more."
   ]
  },
  {
   "cell_type": "code",
   "execution_count": 191,
   "id": "3a170649-b530-4915-9717-2a3342382cfe",
   "metadata": {},
   "outputs": [
    {
     "name": "stdout",
     "output_type": "stream",
     "text": [
      "   Unnamed: 0     Name  Age         City\n",
      "0           0    Alice   25     New York\n",
      "1           1      Bob   30  Los Angeles\n",
      "2           2  Charlie   35      Chicago\n"
     ]
    }
   ],
   "source": [
    "df.to_csv('data.csv')\n",
    "\n",
    "# Reading a CSV file\n",
    "df = pd.read_csv('data.csv')\n",
    "\n",
    "# Displaying the first few rows\n",
    "print(df.head())\n"
   ]
  },
  {
   "cell_type": "markdown",
   "id": "0e2ee8cd-6008-4cd6-ac14-de0a25929dad",
   "metadata": {},
   "source": [
    "### Basic Operations\n",
    "\n",
    "#### Viewing Data\n",
    "- head(): View the first few rows of the DataFrame.\n",
    "- tail(): View the last few rows of the DataFrame.\n",
    "- info(): Get a concise summary of the DataFrame.\n",
    "- describe(): Get descriptive statistics of the DataFrame."
   ]
  },
  {
   "cell_type": "code",
   "execution_count": 193,
   "id": "482e4e0b-3552-421b-b548-f61c53ddcda0",
   "metadata": {},
   "outputs": [
    {
     "name": "stdout",
     "output_type": "stream",
     "text": [
      "   Unnamed: 0     Name  Age         City\n",
      "0           0    Alice   25     New York\n",
      "1           1      Bob   30  Los Angeles\n",
      "2           2  Charlie   35      Chicago\n"
     ]
    }
   ],
   "source": [
    "print(df.head())"
   ]
  },
  {
   "cell_type": "code",
   "execution_count": 194,
   "id": "6b59862b-1765-4339-b22f-d8b0c022218c",
   "metadata": {},
   "outputs": [
    {
     "name": "stdout",
     "output_type": "stream",
     "text": [
      "   Unnamed: 0     Name  Age         City\n",
      "0           0    Alice   25     New York\n",
      "1           1      Bob   30  Los Angeles\n",
      "2           2  Charlie   35      Chicago\n"
     ]
    }
   ],
   "source": [
    "print(df.tail())"
   ]
  },
  {
   "cell_type": "code",
   "execution_count": 195,
   "id": "71054445-41ee-49c2-ba60-32e10b4911e3",
   "metadata": {},
   "outputs": [
    {
     "name": "stdout",
     "output_type": "stream",
     "text": [
      "<class 'pandas.core.frame.DataFrame'>\n",
      "RangeIndex: 3 entries, 0 to 2\n",
      "Data columns (total 4 columns):\n",
      " #   Column      Non-Null Count  Dtype \n",
      "---  ------      --------------  ----- \n",
      " 0   Unnamed: 0  3 non-null      int64 \n",
      " 1   Name        3 non-null      object\n",
      " 2   Age         3 non-null      int64 \n",
      " 3   City        3 non-null      object\n",
      "dtypes: int64(2), object(2)\n",
      "memory usage: 224.0+ bytes\n",
      "None\n"
     ]
    }
   ],
   "source": [
    "print(df.info())"
   ]
  },
  {
   "cell_type": "code",
   "execution_count": 196,
   "id": "219fb21e-b370-4098-afed-73ed39e397bb",
   "metadata": {},
   "outputs": [
    {
     "name": "stdout",
     "output_type": "stream",
     "text": [
      "       Unnamed: 0   Age\n",
      "count         3.0   3.0\n",
      "mean          1.0  30.0\n",
      "std           1.0   5.0\n",
      "min           0.0  25.0\n",
      "25%           0.5  27.5\n",
      "50%           1.0  30.0\n",
      "75%           1.5  32.5\n",
      "max           2.0  35.0\n"
     ]
    }
   ],
   "source": [
    "print(df.describe())"
   ]
  },
  {
   "cell_type": "markdown",
   "id": "04620db2-e8aa-484d-81c9-d7686811be57",
   "metadata": {},
   "source": [
    "#### Selecting Data\n",
    "\n",
    "- Selecting a column: df['column_name'] or df.column_name\n",
    "- Selecting multiple columns: df[['col1', 'col2']]\n",
    "- Selecting rows by index: df.iloc[index]\n",
    "- Selecting rows by label: df.loc[label]"
   ]
  },
  {
   "cell_type": "code",
   "execution_count": 197,
   "id": "94108f88-62f0-4722-b5ad-2551bb1abe20",
   "metadata": {},
   "outputs": [
    {
     "name": "stdout",
     "output_type": "stream",
     "text": [
      "0    25\n",
      "1    30\n",
      "2    35\n",
      "Name: Age, dtype: int64\n"
     ]
    }
   ],
   "source": [
    "# Selecting a single column\n",
    "ages = df['Age']\n",
    "print(ages)"
   ]
  },
  {
   "cell_type": "code",
   "execution_count": 198,
   "id": "f5779509-b982-40e5-87a3-b74c0558b950",
   "metadata": {},
   "outputs": [
    {
     "name": "stdout",
     "output_type": "stream",
     "text": [
      "      Name         City\n",
      "0    Alice     New York\n",
      "1      Bob  Los Angeles\n",
      "2  Charlie      Chicago\n"
     ]
    }
   ],
   "source": [
    "# Selecting multiple columns\n",
    "subset = df[['Name', 'City']]\n",
    "print(subset)"
   ]
  },
  {
   "cell_type": "code",
   "execution_count": 199,
   "id": "5c1017cd-48be-4605-9ac8-f7c95c87223b",
   "metadata": {},
   "outputs": [
    {
     "name": "stdout",
     "output_type": "stream",
     "text": [
      "Unnamed: 0           0\n",
      "Name             Alice\n",
      "Age                 25\n",
      "City          New York\n",
      "Name: 0, dtype: object\n"
     ]
    }
   ],
   "source": [
    "# Selecting rows by index\n",
    "row = df.iloc[0]\n",
    "print(row)"
   ]
  },
  {
   "cell_type": "code",
   "execution_count": 200,
   "id": "ca6633c2-99b7-4d3d-a122-28ddf3ca11de",
   "metadata": {},
   "outputs": [
    {
     "name": "stdout",
     "output_type": "stream",
     "text": [
      "Unnamed: 0           0\n",
      "Name             Alice\n",
      "Age                 25\n",
      "City          New York\n",
      "Name: 0, dtype: object\n"
     ]
    }
   ],
   "source": [
    "# Selecting rows by label\n",
    "row = df.loc[0]\n",
    "print(row)"
   ]
  },
  {
   "cell_type": "markdown",
   "id": "b6eee5ba-4344-44d0-acfa-ae3503dc2432",
   "metadata": {},
   "source": [
    "#### Filtering Data\n",
    "\n",
    "Pandas allows for easy filtering of data based on conditions."
   ]
  },
  {
   "cell_type": "code",
   "execution_count": 201,
   "id": "db051933-aa03-4e2c-b0d5-4da18bac365c",
   "metadata": {},
   "outputs": [
    {
     "name": "stdout",
     "output_type": "stream",
     "text": [
      "   Unnamed: 0     Name  Age     City\n",
      "2           2  Charlie   35  Chicago\n"
     ]
    }
   ],
   "source": [
    "# Filtering rows where age is greater than 30\n",
    "filtered_df = df[df['Age'] > 30]\n",
    "\n",
    "print(filtered_df)"
   ]
  },
  {
   "cell_type": "markdown",
   "id": "7f61b3fc-c648-4fd0-b33f-c6bff88a2ca7",
   "metadata": {},
   "source": [
    "#### Adding and Removing Columns\n",
    "\n",
    "- Adding a column: df['new_column'] = values\n",
    "- Removing a column: df.drop('column_name', axis=1, inplace=True)"
   ]
  },
  {
   "cell_type": "code",
   "execution_count": 202,
   "id": "63b19ca1-c158-453f-a5c3-d6f1fa515687",
   "metadata": {},
   "outputs": [
    {
     "name": "stdout",
     "output_type": "stream",
     "text": [
      "   Unnamed: 0     Name  Age         City Country\n",
      "0           0    Alice   25     New York     USA\n",
      "1           1      Bob   30  Los Angeles     USA\n",
      "2           2  Charlie   35      Chicago     USA\n"
     ]
    }
   ],
   "source": [
    "# Adding a new column\n",
    "df['Country'] = 'USA'\n",
    "print(df)"
   ]
  },
  {
   "cell_type": "code",
   "execution_count": 203,
   "id": "1b30a1b4-ca08-4904-84bd-720305ac0d45",
   "metadata": {},
   "outputs": [
    {
     "name": "stdout",
     "output_type": "stream",
     "text": [
      "   Unnamed: 0     Name  Age         City\n",
      "0           0    Alice   25     New York\n",
      "1           1      Bob   30  Los Angeles\n",
      "2           2  Charlie   35      Chicago\n"
     ]
    }
   ],
   "source": [
    "# Removing a column\n",
    "df.drop('Country', axis=1, inplace=True)\n",
    "print(df)"
   ]
  },
  {
   "cell_type": "markdown",
   "id": "cf905d0a-ef8c-4b7b-8039-724662889662",
   "metadata": {},
   "source": [
    "#### Handling Missing Data\n",
    "\n",
    "- Checking for missing data: df.isnull()\n",
    "- Dropping missing data: df.dropna()\n",
    "- Filling missing data: df.fillna(value)"
   ]
  },
  {
   "cell_type": "code",
   "execution_count": 208,
   "id": "4f756a64-dc01-47f5-ac03-6dbc59bbfd1d",
   "metadata": {},
   "outputs": [
    {
     "name": "stdout",
     "output_type": "stream",
     "text": [
      "    Name    Age   City\n",
      "0  False  False  False\n",
      "1  False   True  False\n",
      "2  False  False   True\n",
      "3  False   True  False\n",
      "4  False  False  False\n"
     ]
    }
   ],
   "source": [
    "import pandas as pd\n",
    "import numpy as np\n",
    "# Create a dictionary with some null values\n",
    "data = {\n",
    "    'Name': ['Alice', 'Bob', 'Charlie', 'David', 'Eve'],\n",
    "    'Age': [25, np.nan, 30, np.nan, 45],\n",
    "    'City': ['New York', 'Los Angeles', np.nan, 'Chicago', 'Miami']\n",
    "}\n",
    "\n",
    "# Convert the dictionary into a DataFrame\n",
    "df = pd.DataFrame(data)\n",
    "\n",
    "# Checking for missing data\n",
    "print(df.isnull())"
   ]
  },
  {
   "cell_type": "code",
   "execution_count": 209,
   "id": "0bad30ca-4e20-49c5-b889-cdf852dfe9fa",
   "metadata": {},
   "outputs": [
    {
     "name": "stdout",
     "output_type": "stream",
     "text": [
      "    Name   Age      City\n",
      "0  Alice  25.0  New York\n",
      "4    Eve  45.0     Miami\n"
     ]
    }
   ],
   "source": [
    "# Dropping rows with missing data\n",
    "df.dropna(inplace=True)\n",
    "print(df)"
   ]
  },
  {
   "cell_type": "code",
   "execution_count": 211,
   "id": "72dd361b-a2e4-4f69-a277-da0d6ec1a985",
   "metadata": {},
   "outputs": [
    {
     "name": "stdout",
     "output_type": "stream",
     "text": [
      "      Name   Age         City\n",
      "0    Alice  25.0     New York\n",
      "1      Bob   0.0  Los Angeles\n",
      "2  Charlie  30.0            0\n",
      "3    David   0.0      Chicago\n",
      "4      Eve  45.0        Miami\n"
     ]
    }
   ],
   "source": [
    "import pandas as pd\n",
    "import numpy as np\n",
    "# Create a dictionary with some null values\n",
    "data = {\n",
    "    'Name': ['Alice', 'Bob', 'Charlie', 'David', 'Eve'],\n",
    "    'Age': [25, np.nan, 30, np.nan, 45],\n",
    "    'City': ['New York', 'Los Angeles', np.nan, 'Chicago', 'Miami']\n",
    "}\n",
    "\n",
    "# Convert the dictionary into a DataFrame\n",
    "df = pd.DataFrame(data)\n",
    "\n",
    "# Filling missing data\n",
    "df.fillna(0, inplace=True)\n",
    "print(df)"
   ]
  },
  {
   "cell_type": "markdown",
   "id": "09fccd5a-5076-4bdb-b842-93adefc327ec",
   "metadata": {},
   "source": [
    "#### Grouping and Aggregating Data\n",
    "\n",
    "Pandas provides powerful group by functionality to perform split-apply-combine operations on data.\n",
    "\n",
    "In the following example\n",
    "- The **groupby** method is used to group the DataFrame by the 'Player' column.\n",
    "- The **sum()** function calculates the total amount won or lost for each player.\n",
    "- The **reset_index()** function is used to convert the resulting Series back into a DataFrame.\n",
    "- The column names are renamed for clarity."
   ]
  },
  {
   "cell_type": "code",
   "execution_count": 215,
   "id": "b3184ae1-4c72-4a87-a74d-114232782969",
   "metadata": {},
   "outputs": [
    {
     "name": "stdout",
     "output_type": "stream",
     "text": [
      "Original DataFrame:\n",
      "    Player       Game  Amount\n",
      "0    Alice      Poker     200\n",
      "1      Bob  Blackjack    -100\n",
      "2  Charlie   Roulette     300\n",
      "3    Alice      Poker     -50\n",
      "4      Bob  Blackjack     150\n",
      "5  Charlie   Roulette    -200\n",
      "6    Alice  Blackjack     100\n",
      "7      Bob      Poker    -250\n",
      "8  Charlie   Roulette     400\n",
      "\n",
      "Grouped DataFrame (Total Amount Won or Lost by Player):\n",
      "    Player  Total Amount\n",
      "0    Alice           250\n",
      "1      Bob          -200\n",
      "2  Charlie           500\n"
     ]
    }
   ],
   "source": [
    "import pandas as pd\n",
    "\n",
    "# Create a dictionary with gambling data\n",
    "data = {\n",
    "    'Player': ['Alice', 'Bob', 'Charlie', 'Alice', 'Bob', 'Charlie', 'Alice', 'Bob', 'Charlie'],\n",
    "    'Game': ['Poker', 'Blackjack', 'Roulette', 'Poker', 'Blackjack', 'Roulette', 'Blackjack', 'Poker', 'Roulette'],\n",
    "    'Amount': [200, -100, 300, -50, 150, -200, 100, -250, 400]\n",
    "}\n",
    "\n",
    "# Convert the dictionary into a DataFrame\n",
    "df = pd.DataFrame(data)\n",
    "\n",
    "# Display the DataFrame\n",
    "print(\"Original DataFrame:\")\n",
    "print(df)\n",
    "\n",
    "# Group by the 'Player' column and calculate the total amount won or lost for each player\n",
    "grouped_df = df.groupby('Player')['Amount'].sum().reset_index()\n",
    "\n",
    "# Rename the columns for clarity\n",
    "grouped_df.columns = ['Player', 'Total Amount']\n",
    "\n",
    "# Display the grouped DataFrame\n",
    "print(\"\\nGrouped DataFrame (Total Amount Won or Lost by Player):\")\n",
    "print(grouped_df)"
   ]
  },
  {
   "cell_type": "markdown",
   "id": "c27ed4ad-5cd8-4c9d-9fea-2fb1c5606b88",
   "metadata": {},
   "source": [
    "#### Merging and Joining DataFrames\n",
    "\n",
    "**merge()** is similar to SQL joins.\n",
    "\n",
    "- The **pd.merge** function is used to merge players_df and scores_df based on the 'PlayerID' column.\n",
    "- The **on='PlayerID'** parameter specifies the column to merge on."
   ]
  },
  {
   "cell_type": "code",
   "execution_count": 216,
   "id": "6cc42c0f-3267-4df9-ba03-18ad0aa00ddf",
   "metadata": {},
   "outputs": [
    {
     "name": "stdout",
     "output_type": "stream",
     "text": [
      "Players DataFrame:\n",
      "   PlayerID PlayerName  Age\n",
      "0         1      Alice   25\n",
      "1         2        Bob   30\n",
      "2         3    Charlie   35\n",
      "3         4      David   40\n",
      "\n",
      "Scores DataFrame:\n",
      "   PlayerID       Game  Score\n",
      "0         1      Poker    200\n",
      "1         2  Blackjack   -100\n",
      "2         3   Roulette    300\n",
      "3         1  Blackjack    150\n",
      "4         2      Poker     50\n",
      "5         3   Roulette   -200\n",
      "6         4      Poker    100\n",
      "\n",
      "Merged DataFrame:\n",
      "   PlayerID PlayerName  Age       Game  Score\n",
      "0         1      Alice   25      Poker    200\n",
      "1         1      Alice   25  Blackjack    150\n",
      "2         2        Bob   30  Blackjack   -100\n",
      "3         2        Bob   30      Poker     50\n",
      "4         3    Charlie   35   Roulette    300\n",
      "5         3    Charlie   35   Roulette   -200\n",
      "6         4      David   40      Poker    100\n"
     ]
    }
   ],
   "source": [
    "import pandas as pd\n",
    "\n",
    "# Create the first DataFrame with player information\n",
    "players_df = pd.DataFrame({\n",
    "    'PlayerID': [1, 2, 3, 4],\n",
    "    'PlayerName': ['Alice', 'Bob', 'Charlie', 'David'],\n",
    "    'Age': [25, 30, 35, 40]\n",
    "})\n",
    "\n",
    "# Create the second DataFrame with game scores\n",
    "scores_df = pd.DataFrame({\n",
    "    'PlayerID': [1, 2, 3, 1, 2, 3, 4],\n",
    "    'Game': ['Poker', 'Blackjack', 'Roulette', 'Blackjack', 'Poker', 'Roulette', 'Poker'],\n",
    "    'Score': [200, -100, 300, 150, 50, -200, 100]\n",
    "})\n",
    "\n",
    "# Display the DataFrames\n",
    "print(\"Players DataFrame:\")\n",
    "print(players_df)\n",
    "print(\"\\nScores DataFrame:\")\n",
    "print(scores_df)\n",
    "\n",
    "# Merge the DataFrames based on the 'PlayerID' column\n",
    "merged_df = pd.merge(players_df, scores_df, on='PlayerID')\n",
    "\n",
    "# Display the merged DataFrame\n",
    "print(\"\\nMerged DataFrame:\")\n",
    "print(merged_df)\n"
   ]
  },
  {
   "cell_type": "markdown",
   "id": "7daae584-c918-4261-a3bd-0165f80be7b5",
   "metadata": {},
   "source": [
    "**concat()** concatenates DataFrames along a particular axis."
   ]
  },
  {
   "cell_type": "code",
   "execution_count": 221,
   "id": "a04fe4d1-5672-4d9f-8c90-fc406b98f3a9",
   "metadata": {},
   "outputs": [
    {
     "name": "stdout",
     "output_type": "stream",
     "text": [
      "First DataFrame:\n",
      "   PlayerID PlayerName  Score\n",
      "0         1      Alice    200\n",
      "1         2        Bob   -100\n",
      "2         3    Charlie    300\n",
      "\n",
      "Second DataFrame:\n",
      "   PlayerID PlayerName  Score\n",
      "0         4      David    150\n",
      "1         5        Eve     50\n",
      "2         6      Frank   -200\n",
      "\n",
      "Vertically Concatenated DataFrame:\n",
      "   PlayerID PlayerName  Score\n",
      "0         1      Alice    200\n",
      "1         2        Bob   -100\n",
      "2         3    Charlie    300\n",
      "3         4      David    150\n",
      "4         5        Eve     50\n",
      "5         6      Frank   -200\n"
     ]
    }
   ],
   "source": [
    "import pandas as pd\n",
    "\n",
    "# Create the first DataFrame\n",
    "df1 = pd.DataFrame({\n",
    "    'PlayerID': [1, 2, 3],\n",
    "    'PlayerName': ['Alice', 'Bob', 'Charlie'],\n",
    "    'Score': [200, -100, 300]\n",
    "})\n",
    "\n",
    "# Create the second DataFrame\n",
    "df2 = pd.DataFrame({\n",
    "    'PlayerID': [4, 5, 6],\n",
    "    'PlayerName': ['David', 'Eve', 'Frank'],\n",
    "    'Score': [150, 50, -200]\n",
    "})\n",
    "\n",
    "# Display the DataFrames\n",
    "print(\"First DataFrame:\")\n",
    "print(df1)\n",
    "print(\"\\nSecond DataFrame:\")\n",
    "print(df2)\n",
    "\n",
    "# Concatenate the DataFrames vertically\n",
    "# The ignore_index=True parameter resets the index of the resulting DataFrame.\n",
    "vertical_concat_df = pd.concat([df1, df2], ignore_index=True)\n",
    "\n",
    "# Display the concatenated DataFrame\n",
    "print(\"\\nVertically Concatenated DataFrame:\")\n",
    "print(vertical_concat_df)\n"
   ]
  },
  {
   "cell_type": "code",
   "execution_count": 222,
   "id": "a09e45bc-3d6e-4a3f-a771-5fc6c3cb7be6",
   "metadata": {},
   "outputs": [
    {
     "name": "stdout",
     "output_type": "stream",
     "text": [
      "\n",
      "Third DataFrame:\n",
      "          GamesPlayed  Wins\n",
      "PlayerID                   \n",
      "1                  10     6\n",
      "2                  20     9\n",
      "3                  30    15\n",
      "\n",
      "Fourth DataFrame:  Note the players are not in the same order!\n",
      "          Losses  Draws\n",
      "PlayerID               \n",
      "3              4      0\n",
      "2             11      0\n",
      "1             15      0\n",
      "\n",
      "Horizontally Concatenated DataFrame:\n",
      "          GamesPlayed  Wins  Losses  Draws\n",
      "PlayerID                                  \n",
      "1                  10     6      15      0\n",
      "2                  20     9      11      0\n",
      "3                  30    15       4      0\n"
     ]
    }
   ],
   "source": [
    "# Create the third DataFrame\n",
    "df3 = pd.DataFrame({\n",
    "    'PlayerID': [1, 2, 3],\n",
    "    'GamesPlayed': [10, 20, 30],\n",
    "    'Wins': [6, 9, 15]\n",
    "})\n",
    "\n",
    "# Create the fourth DataFrame\n",
    "df4 = pd.DataFrame({\n",
    "    'PlayerID': [3, 2, 1],\n",
    "    'Losses': [4, 11, 15],\n",
    "    'Draws': [0, 0, 0]\n",
    "})\n",
    "\n",
    "# Set PlayerID as the index for both DataFrames\n",
    "# To ensure the DataFrames are properly aligned by PlayerID, you can set the PlayerID as the index before concatenating \n",
    "# (or you can also use the merge function)\n",
    "df3.set_index('PlayerID', inplace=True)\n",
    "df4.set_index('PlayerID', inplace=True)\n",
    "\n",
    "# Display the DataFrames\n",
    "print(\"\\nThird DataFrame:\")\n",
    "print(df3)\n",
    "print(\"\\nFourth DataFrame:  Note the players are not in the same order!\")\n",
    "print(df4)\n",
    "\n",
    "# Concatenate the DataFrames horizontally\n",
    "horizontal_concat_df = pd.concat([df3, df4], axis=1)\n",
    "\n",
    "# Display the concatenated DataFrame\n",
    "print(\"\\nHorizontally Concatenated DataFrame:\")\n",
    "print(horizontal_concat_df)\n"
   ]
  },
  {
   "cell_type": "code",
   "execution_count": null,
   "id": "a61b433c-0ca3-43ac-8843-3c3a4b26f5f6",
   "metadata": {},
   "outputs": [],
   "source": []
  }
 ],
 "metadata": {
  "kernelspec": {
   "display_name": "Python 3 (ipykernel)",
   "language": "python",
   "name": "python3"
  },
  "language_info": {
   "codemirror_mode": {
    "name": "ipython",
    "version": 3
   },
   "file_extension": ".py",
   "mimetype": "text/x-python",
   "name": "python",
   "nbconvert_exporter": "python",
   "pygments_lexer": "ipython3",
   "version": "3.9.13"
  }
 },
 "nbformat": 4,
 "nbformat_minor": 5
}
